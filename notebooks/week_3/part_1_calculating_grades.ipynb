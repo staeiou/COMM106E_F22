{
 "cells": [
  {
   "cell_type": "markdown",
   "id": "3b56008c",
   "metadata": {},
   "source": [
    "# Calculating our grades\n",
    "\n",
    "We store percentages (such as the __weight__ of each assignment type) as a number between 0 and 1. So 0% is 0, 50% is .50, 75% is 0.75, and 1.00 is 100%. \n",
    "\n",
    "Lets take the syllabus for a course you may be currently enrolled in: COMM 100C:"
   ]
  },
  {
   "cell_type": "markdown",
   "id": "f39f8acc",
   "metadata": {},
   "source": [
    "* Section Assignments & Participation 30%\n",
    "* Weekly Assessments 20%\n",
    "* Midterm 20%\n",
    "* Final 30%"
   ]
  },
  {
   "cell_type": "code",
   "execution_count": 20,
   "id": "ef8c9b7b",
   "metadata": {},
   "outputs": [],
   "source": [
    "participation_weight = .30\n",
    "assignments_weight = .20\n",
    "midterm_weight = .20\n",
    "final_weight = .30"
   ]
  },
  {
   "cell_type": "markdown",
   "id": "d6d67ca0",
   "metadata": {},
   "source": [
    "Did we get that right? Does it all add up to 1 (that is, 100%)?"
   ]
  },
  {
   "cell_type": "code",
   "execution_count": 21,
   "id": "2cc82b49",
   "metadata": {},
   "outputs": [
    {
     "data": {
      "text/plain": [
       "1.0"
      ]
     },
     "execution_count": 21,
     "metadata": {},
     "output_type": "execute_result"
    }
   ],
   "source": [
    "participation_weight + assignments_weight + midterm_weight + final_weight"
   ]
  },
  {
   "cell_type": "markdown",
   "id": "2681ded8",
   "metadata": {},
   "source": [
    "Now lets set our grades to be:\n",
    "* Participation: 100%\n",
    "* Assignments (average across all): 80%\n",
    "* Midterm: 100%\n",
    "* Final: 90%"
   ]
  },
  {
   "cell_type": "code",
   "execution_count": 22,
   "id": "827a04ba",
   "metadata": {},
   "outputs": [],
   "source": [
    "participation_grade = 1.00\n",
    "assignments_grade = .80\n",
    "midterm_grade = 1.00\n",
    "final_grade = .90"
   ]
  },
  {
   "cell_type": "markdown",
   "id": "b99189f2",
   "metadata": {},
   "source": [
    "Then we can have a big formula that multiplies each grade by the weight, then adds them up:"
   ]
  },
  {
   "cell_type": "code",
   "execution_count": 23,
   "id": "f644ce3a",
   "metadata": {},
   "outputs": [
    {
     "data": {
      "text/plain": [
       "0.93"
      ]
     },
     "execution_count": 23,
     "metadata": {},
     "output_type": "execute_result"
    }
   ],
   "source": [
    "(participation_grade * participation_weight) + (assignments_grade * assignments_weight) + (midterm_grade * midterm_weight) + (final_grade * final_weight)"
   ]
  },
  {
   "cell_type": "markdown",
   "id": "94e4c5d2",
   "metadata": {},
   "source": [
    "This means our grade would be 93/100."
   ]
  },
  {
   "cell_type": "markdown",
   "id": "4b3dba20",
   "metadata": {},
   "source": [
    "You can also break lines up to make it more readable using `\\` --- if you don't, it will assume each new line is a new instruction"
   ]
  },
  {
   "cell_type": "code",
   "execution_count": 24,
   "id": "09da0059",
   "metadata": {},
   "outputs": [
    {
     "data": {
      "text/plain": [
       "0.93"
      ]
     },
     "execution_count": 24,
     "metadata": {},
     "output_type": "execute_result"
    }
   ],
   "source": [
    "(participation_grade * participation_weight) + \\\n",
    "(assignments_grade * assignments_weight) + \\\n",
    "(midterm_grade * midterm_weight) + \\\n",
    "(final_grade * final_weight)"
   ]
  },
  {
   "cell_type": "markdown",
   "id": "8e7fd6df",
   "metadata": {},
   "source": [
    "### Multiple assignments within a grade category"
   ]
  },
  {
   "cell_type": "markdown",
   "id": "1124c942",
   "metadata": {},
   "source": [
    "But typically you have a lot of assignments within a category, like having 10 weekly reflection assignments. So we can do a two-step process of calculating our average (or __mean__) grade for the weekly reflection assignments, then store that as the `assignments_grade`. Then we can re-run that first fomula.\n",
    "\n",
    "To store lists of numbers, we can use a __list__. In python, we specify we are making a list by putting square brackets around a set of numbers and variables, separated by commas. \n",
    "\n",
    "Now, depending on how your individual assignments are graded, you might have to enter them in different ways. If you get back a percentage from 0 to 100, you can just enter that in. So if your assignment grades were 0%, 100%, 20%, 60%, 100%, 60%, 80%, 100%, 100%, and 0, that would be:"
   ]
  },
  {
   "cell_type": "code",
   "execution_count": 25,
   "id": "23459d1f-7849-4e1f-91cf-b020102c86d4",
   "metadata": {},
   "outputs": [],
   "source": [
    "assignments_list = [0.0, 1.0, 0.2, 0.6, 1.0, 0.6, 0.8, 1.0, 1.0, 0.0]"
   ]
  },
  {
   "cell_type": "markdown",
   "id": "75bfa891-3b93-43e8-a460-32a836f7914c",
   "metadata": {},
   "source": [
    "But what if your assignments are graded on a scale of 0-5 and our grades were 0, 5, 1, 3, 5, 3, 4, 5, 5, and 0? We can enter them in as fractions, which will automatically be converted to a percentage:"
   ]
  },
  {
   "cell_type": "code",
   "execution_count": 26,
   "id": "73b3416f",
   "metadata": {},
   "outputs": [
    {
     "data": {
      "text/plain": [
       "[0.0, 1.0, 0.2, 0.6, 1.0, 0.6, 0.8, 1.0, 1.0, 0.0]"
      ]
     },
     "execution_count": 26,
     "metadata": {},
     "output_type": "execute_result"
    }
   ],
   "source": [
    "assignments_list = [0/5, 5/5, 1/5, 3/5, 5/5, 3/5, 4/5, 5/5, 5/5, 0/5]\n",
    "assignments_list"
   ]
  },
  {
   "cell_type": "markdown",
   "id": "8f1f92af",
   "metadata": {},
   "source": [
    "#### Averages with numpy library"
   ]
  },
  {
   "cell_type": "markdown",
   "id": "c1116395",
   "metadata": {},
   "source": [
    "One of the great things about python is that people have written all kinds of general-purpose ___libraries___ that you can ___import___ and then use the functions they have created. ___numpy___ is a very powerful and popular library. "
   ]
  },
  {
   "cell_type": "code",
   "execution_count": 8,
   "id": "0f68bfbf",
   "metadata": {},
   "outputs": [],
   "source": [
    "import numpy"
   ]
  },
  {
   "cell_type": "markdown",
   "id": "af107de5-19a4-4c00-881b-9c352301fd37",
   "metadata": {},
   "source": [
    "In statistics and data science, we use __mean__ instead of __average__. The numpy library can calculate the mean for us:"
   ]
  },
  {
   "cell_type": "code",
   "execution_count": 9,
   "id": "a9d63fb7",
   "metadata": {},
   "outputs": [
    {
     "data": {
      "text/plain": [
       "0.62"
      ]
     },
     "execution_count": 9,
     "metadata": {},
     "output_type": "execute_result"
    }
   ],
   "source": [
    "numpy.mean(assignments_list)"
   ]
  },
  {
   "cell_type": "markdown",
   "id": "756c1d5d",
   "metadata": {},
   "source": [
    "So lets use the `numpy.mean()` function and store that as `assignments_grade`:"
   ]
  },
  {
   "cell_type": "code",
   "execution_count": 10,
   "id": "f33da350-810c-4dd0-a37d-9e52f326bbc1",
   "metadata": {},
   "outputs": [
    {
     "data": {
      "text/plain": [
       "0.62"
      ]
     },
     "execution_count": 10,
     "metadata": {},
     "output_type": "execute_result"
    }
   ],
   "source": [
    "assignments_grade = numpy.mean(assignments_list)\n",
    "assignments_grade"
   ]
  },
  {
   "cell_type": "markdown",
   "id": "2edf715b",
   "metadata": {},
   "source": [
    "So now we can call the formula we had at the beginning of the notebook again. Because we changed `assignments_grade`, that will be updated. But just for our clarity, we will store the other variables for participation, midterm, and final again, even though they should still be in the computer's memory:"
   ]
  },
  {
   "cell_type": "code",
   "execution_count": 11,
   "id": "4b4143bc",
   "metadata": {},
   "outputs": [],
   "source": [
    "participation_grade = 1.00\n",
    "midterm_grade = 1.00\n",
    "final_grade = .90\n",
    "assignments_grade = numpy.mean(assignments_list)\n",
    "\n",
    "participation_weight = .30\n",
    "assignments_weight = .20\n",
    "midterm_weight = .20\n",
    "final_weight = .30"
   ]
  },
  {
   "cell_type": "code",
   "execution_count": 12,
   "id": "07bfd8a7",
   "metadata": {},
   "outputs": [
    {
     "data": {
      "text/plain": [
       "0.894"
      ]
     },
     "execution_count": 12,
     "metadata": {},
     "output_type": "execute_result"
    }
   ],
   "source": [
    "(participation_grade * participation_weight) + \\\n",
    "(assignments_grade * assignments_weight) + \\\n",
    "(midterm_grade * midterm_weight) + \\\n",
    "(final_grade * final_weight)"
   ]
  },
  {
   "cell_type": "markdown",
   "id": "aa8efa0b",
   "metadata": {},
   "source": [
    "## Dropping the lowest grades"
   ]
  },
  {
   "cell_type": "markdown",
   "id": "003d395a",
   "metadata": {},
   "source": [
    "But what about if you have an assignment group where the lowest 1 or 2 grades are dropped? We can use functions to handle that as well. First we need to sort the list from smallest to largest:"
   ]
  },
  {
   "cell_type": "code",
   "execution_count": 13,
   "id": "662bc638",
   "metadata": {},
   "outputs": [
    {
     "data": {
      "text/plain": [
       "array([0. , 0. , 0.2, 0.6, 0.6, 0.8, 1. , 1. , 1. , 1. ])"
      ]
     },
     "execution_count": 13,
     "metadata": {},
     "output_type": "execute_result"
    }
   ],
   "source": [
    "assignments_list = numpy.sort(assignments_list)\n",
    "assignments_list"
   ]
  },
  {
   "cell_type": "markdown",
   "id": "a3b89fef",
   "metadata": {},
   "source": [
    "You can ignore the fact that our list is inside this `array()` function.\n",
    "\n",
    "Then we will remove the first item from the list. There are a lot of ways to do this. One way to do this is to use the ___index selection___ method, which is called with square brackets, instead of parentheses:\n",
    "`assignments_list[start:end]`. But note that the first item is 0, so the 10th item is actually 9. This is confusing at first, there are lots of memes about starting to count from 0. \n",
    "\n",
    "If you don't put a number after the colon, then it goes until the end of the list."
   ]
  },
  {
   "cell_type": "code",
   "execution_count": 14,
   "id": "648d8d3e",
   "metadata": {},
   "outputs": [
    {
     "data": {
      "text/plain": [
       "array([0. , 0. , 0.2, 0.6, 0.6, 0.8, 1. , 1. , 1. , 1. ])"
      ]
     },
     "execution_count": 14,
     "metadata": {},
     "output_type": "execute_result"
    }
   ],
   "source": [
    "assignments_list[0:]"
   ]
  },
  {
   "cell_type": "markdown",
   "id": "3895c127",
   "metadata": {},
   "source": [
    "Selecting everything after the first item (dropping lowest):"
   ]
  },
  {
   "cell_type": "code",
   "execution_count": 15,
   "id": "0d291e10",
   "metadata": {},
   "outputs": [
    {
     "data": {
      "text/plain": [
       "array([0. , 0.2, 0.6, 0.6, 0.8, 1. , 1. , 1. , 1. ])"
      ]
     },
     "execution_count": 15,
     "metadata": {},
     "output_type": "execute_result"
    }
   ],
   "source": [
    "assignments_list[1:]"
   ]
  },
  {
   "cell_type": "markdown",
   "id": "6f5bad7c",
   "metadata": {},
   "source": [
    "Selecting everything after the first two items (dropping lowest two):"
   ]
  },
  {
   "cell_type": "code",
   "execution_count": 16,
   "id": "46fa19fd",
   "metadata": {},
   "outputs": [
    {
     "data": {
      "text/plain": [
       "array([0.2, 0.6, 0.6, 0.8, 1. , 1. , 1. , 1. ])"
      ]
     },
     "execution_count": 16,
     "metadata": {},
     "output_type": "execute_result"
    }
   ],
   "source": [
    "assignments_list[2:]"
   ]
  },
  {
   "cell_type": "markdown",
   "id": "2b286a7e",
   "metadata": {},
   "source": [
    "FYI, when you do a select, the items you don't select are still there in the original list. They aren't deleted:"
   ]
  },
  {
   "cell_type": "code",
   "execution_count": 17,
   "id": "5ffddd72",
   "metadata": {},
   "outputs": [
    {
     "data": {
      "text/plain": [
       "array([0. , 0. , 0.2, 0.6, 0.6, 0.8, 1. , 1. , 1. , 1. ])"
      ]
     },
     "execution_count": 17,
     "metadata": {},
     "output_type": "execute_result"
    }
   ],
   "source": [
    "assignments_list"
   ]
  },
  {
   "cell_type": "markdown",
   "id": "2e8d45e6",
   "metadata": {},
   "source": [
    "Lets calculate the grade again, but only selecting everything but the lowest grade."
   ]
  },
  {
   "cell_type": "code",
   "execution_count": 18,
   "id": "9cdecab5",
   "metadata": {},
   "outputs": [
    {
     "data": {
      "text/plain": [
       "0.6888888888888888"
      ]
     },
     "execution_count": 18,
     "metadata": {},
     "output_type": "execute_result"
    }
   ],
   "source": [
    "assignments_average = numpy.mean(assignments_list[1:])\n",
    "assignments_average"
   ]
  },
  {
   "cell_type": "markdown",
   "id": "ed2985d7",
   "metadata": {},
   "source": [
    "And now we can re-run that big function that calculates all the grades:"
   ]
  },
  {
   "cell_type": "code",
   "execution_count": 19,
   "id": "46ad6442",
   "metadata": {},
   "outputs": [
    {
     "data": {
      "text/plain": [
       "0.894"
      ]
     },
     "execution_count": 19,
     "metadata": {},
     "output_type": "execute_result"
    }
   ],
   "source": [
    "class_grade = (participation_grade * participation_weight) + \\\n",
    "(assignments_grade * assignments_weight) + \\\n",
    "(midterm_grade * midterm_weight) + \\\n",
    "(final_grade * final_weight)\n",
    "\n",
    "class_grade"
   ]
  },
  {
   "cell_type": "markdown",
   "id": "98a3566d-f22e-4841-9f73-501d764ccd30",
   "metadata": {},
   "source": [
    "## Make sure to go to Kernel -> Restart and run all cells and make sure there are no errors"
   ]
  },
  {
   "cell_type": "code",
   "execution_count": null,
   "id": "034031ee-3223-4860-89e2-71d6acca4f29",
   "metadata": {},
   "outputs": [],
   "source": []
  }
 ],
 "metadata": {
  "kernelspec": {
   "display_name": "Python 3 (clean)",
   "language": "python",
   "name": "python3_clean"
  },
  "language_info": {
   "codemirror_mode": {
    "name": "ipython",
    "version": 3
   },
   "file_extension": ".py",
   "mimetype": "text/x-python",
   "name": "python",
   "nbconvert_exporter": "python",
   "pygments_lexer": "ipython3",
   "version": "3.9.5"
  }
 },
 "nbformat": 4,
 "nbformat_minor": 5
}
