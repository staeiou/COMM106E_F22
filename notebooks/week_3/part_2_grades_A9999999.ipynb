{
 "cells": [
  {
   "cell_type": "code",
   "execution_count": 6,
   "id": "c8a7162f-e834-49b3-a689-f558458078bf",
   "metadata": {},
   "outputs": [],
   "source": [
    "import numpy as np"
   ]
  },
  {
   "cell_type": "markdown",
   "id": "3b56008c",
   "metadata": {},
   "source": [
    "# Calculating our grades\n",
    "\n",
    "We store percentages (such as the __weight__ of each assignment type) as a number between 0 and 1. So 0% is 0, 50% is .50, 75% is 0.75, and 1.00 is 100%. \n",
    "\n",
    "___For lab, modify the markdown text cell below to reflect your class's grading model___"
   ]
  },
  {
   "cell_type": "markdown",
   "id": "f39f8acc",
   "metadata": {},
   "source": [
    "* Participation 30%\n",
    "* Weekly Assessments 20% (lowest 2 dropped)\n",
    "* Midterm 20%\n",
    "* Final 30%"
   ]
  },
  {
   "cell_type": "code",
   "execution_count": 7,
   "id": "ef8c9b7b",
   "metadata": {},
   "outputs": [],
   "source": [
    "participation_weight = .30\n",
    "assignments_weight = .20\n",
    "midterm_weight = .20\n",
    "final_weight = .30"
   ]
  },
  {
   "cell_type": "markdown",
   "id": "d6d67ca0",
   "metadata": {},
   "source": [
    "Did we get that right? Does it all add up to 1 (that is, 100%)?\n",
    "\n",
    "___For lab, modify code below if you are using different grade variables___"
   ]
  },
  {
   "cell_type": "code",
   "execution_count": 8,
   "id": "2cc82b49",
   "metadata": {},
   "outputs": [
    {
     "data": {
      "text/plain": [
       "1.0"
      ]
     },
     "execution_count": 8,
     "metadata": {},
     "output_type": "execute_result"
    }
   ],
   "source": [
    "participation_weight + assignments_weight + midterm_weight + final_weight"
   ]
  },
  {
   "cell_type": "markdown",
   "id": "2681ded8",
   "metadata": {},
   "source": [
    "___For lab, modify this markdown text cell to put your grades___\n",
    "* Participation: 100%\n",
    "* Assignments (average across all): 80%\n",
    "* Midterm: 100%\n",
    "* Final: 90%"
   ]
  },
  {
   "cell_type": "code",
   "execution_count": 9,
   "id": "827a04ba",
   "metadata": {},
   "outputs": [],
   "source": [
    "participation_grade = 1.00\n",
    "assignments_list = [0/5, 5/5, 1/5, 3/5, 5/5, 3/5, 4/5, 5/5, 5/5, 0/5]\n",
    "midterm_grade = 1.00\n",
    "final_grade = .90"
   ]
  },
  {
   "cell_type": "markdown",
   "id": "aa8efa0b",
   "metadata": {},
   "source": [
    "___For lab, use this next section if you have to drop the lowest grades in a category. If you have multiple grade categories (like this class), you'll have multiple sections like this.___\n",
    "\n",
    "### Dropping the lowest grades"
   ]
  },
  {
   "cell_type": "markdown",
   "id": "6f5bad7c",
   "metadata": {},
   "source": [
    "For my class, you can drop the lowest two assignments:"
   ]
  },
  {
   "cell_type": "code",
   "execution_count": 10,
   "id": "46fa19fd",
   "metadata": {},
   "outputs": [
    {
     "data": {
      "text/plain": [
       "[0.2, 0.6, 1.0, 0.6, 0.8, 1.0, 1.0, 0.0]"
      ]
     },
     "execution_count": 10,
     "metadata": {},
     "output_type": "execute_result"
    }
   ],
   "source": [
    "assignments_list[2:]"
   ]
  },
  {
   "cell_type": "code",
   "execution_count": 13,
   "id": "9cdecab5",
   "metadata": {},
   "outputs": [
    {
     "data": {
      "text/plain": [
       "0.65"
      ]
     },
     "execution_count": 13,
     "metadata": {},
     "output_type": "execute_result"
    }
   ],
   "source": [
    "assignments_grade = np.mean(assignments_list[2:])\n",
    "assignments_grade"
   ]
  },
  {
   "cell_type": "markdown",
   "id": "ed2985d7",
   "metadata": {},
   "source": [
    "And now we can re-run that big function that calculates all the grades:\n",
    "\n",
    "___For lab, modify this formula so that it has all of your grades and weights___"
   ]
  },
  {
   "cell_type": "code",
   "execution_count": 14,
   "id": "46ad6442",
   "metadata": {},
   "outputs": [
    {
     "data": {
      "text/plain": [
       "0.9"
      ]
     },
     "execution_count": 14,
     "metadata": {},
     "output_type": "execute_result"
    }
   ],
   "source": [
    "class_grade = (participation_grade * participation_weight) + \\\n",
    "(assignments_grade * assignments_weight) + \\\n",
    "(midterm_grade * midterm_weight) + \\\n",
    "(final_grade * final_weight)\n",
    "\n",
    "class_grade"
   ]
  },
  {
   "cell_type": "markdown",
   "id": "98a3566d-f22e-4841-9f73-501d764ccd30",
   "metadata": {},
   "source": [
    "## Make sure to go to Kernel -> Restart and run all cells and make sure there are no errors"
   ]
  },
  {
   "cell_type": "code",
   "execution_count": null,
   "id": "034031ee-3223-4860-89e2-71d6acca4f29",
   "metadata": {},
   "outputs": [],
   "source": []
  }
 ],
 "metadata": {
  "kernelspec": {
   "display_name": "Python 3 (clean)",
   "language": "python",
   "name": "python3_clean"
  },
  "language_info": {
   "codemirror_mode": {
    "name": "ipython",
    "version": 3
   },
   "file_extension": ".py",
   "mimetype": "text/x-python",
   "name": "python",
   "nbconvert_exporter": "python",
   "pygments_lexer": "ipython3",
   "version": "3.9.5"
  }
 },
 "nbformat": 4,
 "nbformat_minor": 5
}
