{
 "cells": [
  {
   "cell_type": "markdown",
   "id": "77ad5d5b",
   "metadata": {},
   "source": [
    "# Lab 1: Hello, World!"
   ]
  },
  {
   "cell_type": "markdown",
   "id": "b2ca6c80-0b77-450d-957f-0bdb7bfd63b3",
   "metadata": {},
   "source": [
    "The first thing we will do is install the `pronouncing` software library. This is a lot of code that Professor Allison Parish at NYU has written and given away for free. All we need to do is tell pip -- the Python Installation Program --- to install it. Note we have to use a `!` at the beginning of the line. If it already is installed, there is no problem."
   ]
  },
  {
   "cell_type": "code",
   "execution_count": 14,
   "id": "284a4373",
   "metadata": {},
   "outputs": [
    {
     "name": "stdout",
     "output_type": "stream",
     "text": [
      "Defaulting to user installation because normal site-packages is not writeable\n",
      "Requirement already satisfied: pronouncing in /home/sgeiger/.local/lib/python3.9/site-packages (0.2.0)\n",
      "Requirement already satisfied: cmudict>=0.4.0 in /home/sgeiger/.local/lib/python3.9/site-packages (from pronouncing) (1.0.2)\n"
     ]
    }
   ],
   "source": [
    "!pip install pronouncing"
   ]
  },
  {
   "cell_type": "markdown",
   "id": "5fd9483f-f3ba-4997-8ddc-c5122a4d2447",
   "metadata": {},
   "source": [
    "## Try and except: handling errors gracefully\n",
    "\n",
    "Once it is installed, we need to import all that code into our current notebook session. The way we do this is `import pronouncing as pro`, but we can put it in what is called a try and except block.\n",
    "\n",
    "It will try to import the pronouncing library, and if it works, it prints a message that it worked. But if there is some error, instead of just breaking, it will print a helpful message I've written:"
   ]
  },
  {
   "cell_type": "code",
   "execution_count": 15,
   "id": "a542f0ad",
   "metadata": {},
   "outputs": [
    {
     "name": "stdout",
     "output_type": "stream",
     "text": [
      "Imported 'pronouncing' library successfully as 'pro'\n"
     ]
    }
   ],
   "source": [
    "try: \n",
    "    import pronouncing as pro\n",
    "    print(\"Imported 'pronouncing' library successfully as 'pro'\")\n",
    "    \n",
    "except:\n",
    "    print(\"You need to run the '!pip install pronouncing' command at the top, then go to the Kernel menu and click 'Restart and clear output'\")"
   ]
  },
  {
   "cell_type": "markdown",
   "id": "5e55fdc5-5762-4f4d-8b3c-beb11bef4000",
   "metadata": {},
   "source": [
    "We also want to import the `random` library, which makes it easy to randomly pick an item from a list. This is pre-installed in python, so we really shouldn't get an error here."
   ]
  },
  {
   "cell_type": "code",
   "execution_count": 16,
   "id": "17daf8a5",
   "metadata": {},
   "outputs": [],
   "source": [
    "import random"
   ]
  },
  {
   "cell_type": "markdown",
   "id": "3285e662",
   "metadata": {},
   "source": [
    "# Hello, World!"
   ]
  },
  {
   "cell_type": "code",
   "execution_count": 17,
   "id": "1e16e9ae",
   "metadata": {},
   "outputs": [
    {
     "name": "stdout",
     "output_type": "stream",
     "text": [
      "Hello World!\n"
     ]
    }
   ],
   "source": [
    "print(\"Hello World!\")"
   ]
  },
  {
   "cell_type": "markdown",
   "id": "577fd98f",
   "metadata": {},
   "source": [
    "# Your name\n",
    "\n",
    "We are going to define a new __variable__ called my_name, and we are going to set it equal to something in quotes. In some other programming languages, you have to say what type of variable it is: a number, a __string__ (what we call a text variable), a list, a data file, etc. Python does a pretty good job at guessing what type it is based on what you are setting it equal to. If it is in between single quotes (e.g. 'text') or double quotes (e.g. \"text\"), it will make it a string."
   ]
  },
  {
   "cell_type": "code",
   "execution_count": 18,
   "id": "5201d9b9",
   "metadata": {},
   "outputs": [],
   "source": [
    "my_name = \"Stu\""
   ]
  },
  {
   "cell_type": "markdown",
   "id": "fec613c1-9f6b-4023-80ec-742603ad4842",
   "metadata": {},
   "source": [
    "Next we are going to use an __if-else__ statement. The way to read this is: if there is a space in my_name, print a message saying to only use one name. But if not, create a new variable by adding three __strings__ together. "
   ]
  },
  {
   "cell_type": "code",
   "execution_count": 19,
   "id": "e9d252e4",
   "metadata": {},
   "outputs": [
    {
     "name": "stdout",
     "output_type": "stream",
     "text": [
      "Hello Stu!\n"
     ]
    }
   ],
   "source": [
    "if ' ' in my_name:\n",
    "    print(\"Please only use one name without any spaces\")\n",
    "    \n",
    "else:\n",
    "    personal_hello = \"Hello \" + my_name + \"!\"\n",
    "    print(personal_hello)"
   ]
  },
  {
   "cell_type": "markdown",
   "id": "ce9dd203",
   "metadata": {},
   "source": [
    "## Your name in [ARPABET](https://en.wikipedia.org/wiki/ARPABET#Symbols) notation\n",
    "\n",
    "Since we have a name stored in `my_name`, we can use it again and again without having to re-type the name. \n",
    "\n",
    "The pronouncing library has a __function__ called `phones_for_word()` that takes in a string of text, looks it up in the Carnegie-Mellon University Prounouncing Dictionary, and presents it in ARPABET phonetic notation. There is a different python library that converts to IPA phonetic notation, but we won't be using that yet.\n",
    "\n",
    "You've already encountered on function, called `print()`. You put what you want to input into a function inside the parentheses, and you can save the output to a new variable."
   ]
  },
  {
   "cell_type": "code",
   "execution_count": 167,
   "id": "66c80976",
   "metadata": {},
   "outputs": [
    {
     "name": "stdout",
     "output_type": "stream",
     "text": [
      "['S T UW1']\n"
     ]
    }
   ],
   "source": [
    "name_in_phonemes = pro.phones_for_word(my_name)\n",
    "print(name_in_phonemes)"
   ]
  },
  {
   "cell_type": "markdown",
   "id": "049c3f0f-32af-4faa-87f0-b2e5ad504ce3",
   "metadata": {},
   "source": [
    "## Handling the output"
   ]
  },
  {
   "cell_type": "markdown",
   "id": "39ce7a4d-3fb8-46d6-a46e-564dcc0e3dd9",
   "metadata": {},
   "source": [
    "Note that the `phones_for_word()` function returns a list of strings, not a single string. You know it is a list because it is in between two square brackets: []\n",
    "\n",
    "There is a built-in function to python that lets you get the number of items in a list: `len()`:"
   ]
  },
  {
   "cell_type": "code",
   "execution_count": 20,
   "id": "d3f8d918-6af4-4f1f-bbcc-b6b6b88f8f6f",
   "metadata": {},
   "outputs": [
    {
     "name": "stdout",
     "output_type": "stream",
     "text": [
      "1\n"
     ]
    }
   ],
   "source": [
    "print(len(name_in_phonemes))"
   ]
  },
  {
   "cell_type": "markdown",
   "id": "4135aca5-e7ae-4c97-ba08-82395563d5db",
   "metadata": {},
   "source": [
    "For example, if I put \"Stuart\" in, I get three different phonetic translations:"
   ]
  },
  {
   "cell_type": "code",
   "execution_count": 29,
   "id": "664fe271-4884-43d0-b463-bd43eb3b71b8",
   "metadata": {},
   "outputs": [
    {
     "name": "stdout",
     "output_type": "stream",
     "text": [
      "['S T UW1 ER0 T', 'S T Y UW1 ER0 T', 'S T AO1 R T']\n",
      "3\n"
     ]
    }
   ],
   "source": [
    "name_in_phonemes = pro.phones_for_word(\"Stuart\")\n",
    "print(name_in_phonemes)\n",
    "print(len(name_in_phonemes))"
   ]
  },
  {
   "cell_type": "markdown",
   "id": "6dfa3e72-2933-4965-81bf-f63ff9c1e43d",
   "metadata": {},
   "source": [
    "But sometimes there is no entry in the CMU database, making the list of length 0:"
   ]
  },
  {
   "cell_type": "code",
   "execution_count": 35,
   "id": "79e52b3b-ff91-47e3-a02c-bf926de806cf",
   "metadata": {},
   "outputs": [
    {
     "name": "stdout",
     "output_type": "stream",
     "text": [
      "[]\n",
      "0\n"
     ]
    }
   ],
   "source": [
    "name_in_phonemes = pro.phones_for_word(\"Makoa\")\n",
    "print(name_in_phonemes)\n",
    "print(len(name_in_phonemes))"
   ]
  },
  {
   "cell_type": "markdown",
   "id": "4560cb59-cadb-4927-867c-4a5b60be5d87",
   "metadata": {},
   "source": [
    "So if this is a program, we can write an algorithm to do something different based on the length of the list: an error message if length 0, print the first and only item in the list if there is only 1, and print the first item of the list if there is more than 1. Remember that we start counting at zero!"
   ]
  },
  {
   "cell_type": "code",
   "execution_count": 37,
   "id": "0f62c214",
   "metadata": {},
   "outputs": [
    {
     "name": "stdout",
     "output_type": "stream",
     "text": [
      "I think I say your name like: S T UW1\n"
     ]
    }
   ],
   "source": [
    "name_in_phonemes = pro.phones_for_word(my_name)\n",
    "\n",
    "if len(name_in_phonemes) == 0:\n",
    "    print(\"Sorry, an phonetic representation of your name was not found in the Carnegie-Mellon University Pronouncing Dictionary.\\n\")\n",
    "    print(\"Please choose another name or an alternate spelling, then run the code again from the beginning.\\n\")\n",
    "    print(\"Databases are created by people and have biases in how they represent the world.\\n\")\n",
    "\n",
    "elif len(name_in_phonemes) == 1:\n",
    "    print(\"I think I say your name like: \" + name_in_phonemes[0])\n",
    "    \n",
    "else:\n",
    "    print(\"I think your name can be prounounced in a few different ways, but I'll use the most common pronounciation:\")\n",
    "    print(name_in_phonemes[0])\n",
    "    "
   ]
  },
  {
   "cell_type": "markdown",
   "id": "5e1246da",
   "metadata": {},
   "source": [
    "# The rhyming name game song"
   ]
  },
  {
   "cell_type": "markdown",
   "id": "3179b1da-56e8-4d0c-9aa2-3c69f587b9f2",
   "metadata": {},
   "source": [
    "A cool feature of the pronouncing library is that it can automatically generate rhymes using the `rhymes()` function:"
   ]
  },
  {
   "cell_type": "code",
   "execution_count": 38,
   "id": "ea438e90",
   "metadata": {},
   "outputs": [],
   "source": [
    "name_rhymes = pro.rhymes(my_name)"
   ]
  },
  {
   "cell_type": "code",
   "execution_count": 39,
   "id": "5d9afddf",
   "metadata": {},
   "outputs": [
    {
     "name": "stdout",
     "output_type": "stream",
     "text": [
      "['abou', 'abreu', 'accrue', 'achoo', 'adieu', 'ado', 'aeroperu', 'anew', 'anew', 'askew', 'babu', 'badu', 'baku', 'ballou', 'ballyhoo', 'bamboo', 'beaucoup', 'bellew', 'belyeu', 'benhamou', 'beu', 'bleu', 'blew', 'blue', 'boo', 'breaux', 'brew', 'brue', 'byu', 'canoe', 'carilou', 'cebu', 'chaloux', 'champoux', 'chengdu', 'chew', 'chiu', 'choo', 'chou', 'chu', 'clue', 'cmu', 'construe', 'coo', 'corbu', 'cou', 'coup', 'coups', 'coutu', 'cpu', 'crew', 'crewe', 'cue', 'deblois', 'debut', 'decou', 'depardieu', 'depew', 'depue', 'deux', 'dew', 'dfw', 'dfw', 'do', 'doo', 'douwe', 'drew', 'drive-thru', 'dru', 'du', 'due', 'due', 'edu', 'egnew', 'ensue', 'eschew', 'ewe', 'fauroux', 'few', 'fitzhugh', 'flew', 'flu', 'flue', 'fondue', 'foo', 'fourtou', 'frew', 'frueh', 'fu', 'geroux', 'gignoux', 'giroux', 'glew', 'glue', 'gnu', 'goo', 'graue', 'grew', 'grewe', 'grue', 'gu', 'gue', 'heroux', 'herscu', 'hew', 'hewe', 'hitherto', 'hoo', 'hou', 'houx', 'hsu', 'hu', 'hue', 'hugh', 'hugh', 'hullabaloo', 'igou', 'imbue', 'into', 'iou', 'iq', 'isu', 'jammu', 'jamu', 'jew', 'joo', 'ju', 'jue', 'jus', 'kalamazoo', 'kangaroo', 'karatsu', 'katmandu', 'kazoo', 'ketou', 'kew', 'khoo', 'khuu', 'klu', 'klu', 'knew', 'knew', 'komatsu', 'koo', 'ku', 'kwangju', 'kwangju', 'kyu', 'laroux', 'larue', 'ledoux', 'lemieux', 'leroux', 'leu', 'lew', 'lhommedieu', 'lieu', 'lieu', 'liou', 'liu', 'llanview', 'long-overdue', 'loo', 'lou', 'louw', 'loux', 'lu', 'lue', 'mailloux', 'marcou', 'marcoux', 'marrou', 'mccue', 'mcgrew', 'mcgue', 'mchugh', 'mcknew', 'mcnew', 'meiyuh', 'mew', 'misconstrue', 'moo', 'moue', 'mu', 'neveu', 'new', 'new', 'nu', 'ooh', 'oooh', 'ou', 'outdo', 'outgrew', 'overdo', 'overdue', 'overthrew', 'pas-de-deux', 'perdue', 'peru', 'peugh', 'pew', 'phew', 'phu', 'plew', 'plue', 'poo', 'pooh', 'pou', 'prew', 'pru', 'prue', 'prugh', 'pshew', 'pu', 'pugh', 'purdue', 'pursue', 'q', 'q.', 'qu', 'que', 'queue', 'ragu', 'ramu', 'raoux', 'ratu', 'redo', 'renew', 'reto', 'review', 'revue', 'rew', 'rhew', 'rhue', 'richoux', 'rioux', 'roux', 'ru', 'ru', 'rue', 'schewe', 'schoo', 'schou', 'schue', 'schuh', 'screw', 'seydoux', 'shampoo', 'shamu', 'shew', 'shiu', 'shoe', 'shoo', 'shu', 'shue', 'siew', 'sioux', 'skew', 'slew', 'soo', 'spew', 'stew', 'strew', 'stu', 'stuewe', 'su', 'subdue', 'sue', 'suu', 'suu', 'taboo', 'tartu', 'tattoo', 'tatu', 'tew', 'tew', 'thankyou', 'theroux', 'thew', 'threw', 'through', 'thru', 'thuy', 'tien-fu', 'tieu', 'timbuktu', 'to', 'to-do', 'tobu', 'todo', 'too', 'toyoo', 'treu', 'trew', 'trieu', 'troyu', 'true', 'true-view', 'tsu', 'tu', 'tue', 'two', 'u', 'u.', 'undo', 'undue', 'unglue', 'untrue', 'urdu', 'uwe', 'vanlue', 'view', 'vous', 'vu', 'vue', 'wahoo', 'wahoo', 'wenzhou', 'whay-yu', 'whay-yu', 'whew', 'whew', 'whew', 'who', 'whoo', 'withdrew', 'withdrew', 'woo', 'wu', 'xu', 'xue', 'yabbadabbadoo', 'yew', 'yoo', 'you', 'yu', 'yue', 'zanu', 'zhambu', 'zhou', 'zhu', 'zoo', 'zue', 'zungu']\n"
     ]
    }
   ],
   "source": [
    "print(name_rhymes)"
   ]
  },
  {
   "cell_type": "markdown",
   "id": "acfe7e89-5cb1-48bd-9e92-0b446db3b40c",
   "metadata": {},
   "source": [
    "Let us randomly pick three of these from this list with the `random.choice()` function. We will store a random choice to three different variables."
   ]
  },
  {
   "cell_type": "code",
   "execution_count": 40,
   "id": "4b27820b",
   "metadata": {},
   "outputs": [],
   "source": [
    "name_rhyme0 = random.choice(name_rhymes)\n",
    "name_rhyme1 = random.choice(name_rhymes)\n",
    "name_rhyme2 = random.choice(name_rhymes)"
   ]
  },
  {
   "cell_type": "code",
   "execution_count": 41,
   "id": "4f7ed84a",
   "metadata": {},
   "outputs": [
    {
     "name": "stdout",
     "output_type": "stream",
     "text": [
      "stew hugh bleu\n"
     ]
    }
   ],
   "source": [
    "print(name_rhyme0, name_rhyme1, name_rhyme2)"
   ]
  },
  {
   "cell_type": "markdown",
   "id": "40bac02b",
   "metadata": {},
   "source": [
    "## Putting [The Name Game song](https://en.wikipedia.org/wiki/The_Name_Game) together"
   ]
  },
  {
   "cell_type": "markdown",
   "id": "16fa2520-198b-486a-8343-9e410f692775",
   "metadata": {},
   "source": [
    "Now that we have three rhymes for a name, we can write an algorithm to generate a version of The Name Song.\n",
    "\n",
    "We first create a new variable called `name_song` and add the rest of the first line, followed by a __newline__ symbol (`\\n`)"
   ]
  },
  {
   "cell_type": "code",
   "execution_count": 173,
   "id": "27b6bef5",
   "metadata": {},
   "outputs": [],
   "source": [
    "name_song = my_name + \", \" + my_name + \", bo-\" + name_rhyme0 + \"\\n\""
   ]
  },
  {
   "cell_type": "code",
   "execution_count": 174,
   "id": "ec6df3d2",
   "metadata": {},
   "outputs": [
    {
     "name": "stdout",
     "output_type": "stream",
     "text": [
      "Stu, Stu, bo-queue\n",
      "\n"
     ]
    }
   ],
   "source": [
    "print(name_song)"
   ]
  },
  {
   "cell_type": "markdown",
   "id": "b814aefa-ca8f-4a7d-9b48-88dd015aab9f",
   "metadata": {},
   "source": [
    "Then we can keep adding to the `name_song` variable, making sure the first part is `name_song = name_song + ...`"
   ]
  },
  {
   "cell_type": "code",
   "execution_count": 175,
   "id": "7502e9bf",
   "metadata": {},
   "outputs": [],
   "source": [
    "name_song = name_song + \"Banana-fanna fo-\" + name_rhyme1 + \"\\n\""
   ]
  },
  {
   "cell_type": "code",
   "execution_count": 176,
   "id": "ae5ee0a9",
   "metadata": {},
   "outputs": [
    {
     "name": "stdout",
     "output_type": "stream",
     "text": [
      "Stu, Stu, bo-queue\n",
      "Banana-fanna fo-spew\n",
      "\n"
     ]
    }
   ],
   "source": [
    "print(name_song)"
   ]
  },
  {
   "cell_type": "code",
   "execution_count": 177,
   "id": "19af3b44",
   "metadata": {},
   "outputs": [],
   "source": [
    "name_song = name_song + \"Fee fi mo-\" + name_rhyme2 + \"\\n\" + my_name + \"!\""
   ]
  },
  {
   "cell_type": "code",
   "execution_count": 178,
   "id": "b9ee8341",
   "metadata": {},
   "outputs": [
    {
     "name": "stdout",
     "output_type": "stream",
     "text": [
      "Stu, Stu, bo-queue\n",
      "Banana-fanna fo-spew\n",
      "Fee fi mo-louw\n",
      "Stu!\n"
     ]
    }
   ],
   "source": [
    "print(name_song)"
   ]
  },
  {
   "cell_type": "markdown",
   "id": "93743b59",
   "metadata": {},
   "source": [
    "# Before you submit, go to the Menu Kernel -> Restart and Run All to make sure it runs without any errors"
   ]
  }
 ],
 "metadata": {
  "kernelspec": {
   "display_name": "Python 3 (clean)",
   "language": "python",
   "name": "python3_clean"
  },
  "language_info": {
   "codemirror_mode": {
    "name": "ipython",
    "version": 3
   },
   "file_extension": ".py",
   "mimetype": "text/x-python",
   "name": "python",
   "nbconvert_exporter": "python",
   "pygments_lexer": "ipython3",
   "version": "3.9.5"
  }
 },
 "nbformat": 4,
 "nbformat_minor": 5
}
