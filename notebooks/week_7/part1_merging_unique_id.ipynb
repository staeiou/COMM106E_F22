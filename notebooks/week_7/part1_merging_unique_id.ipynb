{
 "cells": [
  {
   "cell_type": "markdown",
   "id": "a0d0c1b4-6488-416e-838c-b2aa8c46a0e7",
   "metadata": {},
   "source": [
    "## Make sure you have downloaded the supermarket_marketing and drugstore_pregnancy sheets [from this folder](https://drive.google.com/drive/u/1/folders/1UDhRY1XZ1y0H3jHckdRvImAaJozq3gup) as Excel and uploaded both to this directory"
   ]
  },
  {
   "cell_type": "code",
   "execution_count": null,
   "id": "910e7b8a",
   "metadata": {},
   "outputs": [],
   "source": [
    "!pip install pandas openpyxl"
   ]
  },
  {
   "cell_type": "markdown",
   "id": "08ac44ee",
   "metadata": {},
   "source": [
    "# Merging (aka joining) two datasets with a unique identifier"
   ]
  },
  {
   "cell_type": "code",
   "execution_count": null,
   "id": "3efb6e98",
   "metadata": {},
   "outputs": [],
   "source": [
    "import pandas as pd"
   ]
  },
  {
   "cell_type": "code",
   "execution_count": null,
   "id": "264da6bd",
   "metadata": {},
   "outputs": [],
   "source": [
    "data_supermarket = pd.read_excel(\"supermarket_marketing.xlsx\")\n",
    "data_drugstore = pd.read_excel(\"drugstore_pregnancy.xlsx\")"
   ]
  },
  {
   "cell_type": "code",
   "execution_count": null,
   "id": "b82bb642",
   "metadata": {},
   "outputs": [],
   "source": [
    "data_supermarket.sample(3).T"
   ]
  },
  {
   "cell_type": "code",
   "execution_count": null,
   "id": "5a7f558f",
   "metadata": {},
   "outputs": [],
   "source": [
    "data_drugstore.sample(3).T"
   ]
  },
  {
   "cell_type": "markdown",
   "id": "8c2b640a",
   "metadata": {},
   "source": [
    "# Merging: four types\n",
    "\n",
    "<img src = \"https://cdn.mindmajix.com/blog/images/db-01_2119.png\" width=50%>\n",
    "\n",
    "## Inner merge: only keep the rows where the unique identifier is found in both datasets"
   ]
  },
  {
   "cell_type": "code",
   "execution_count": null,
   "id": "cbee997c",
   "metadata": {},
   "outputs": [],
   "source": [
    "data_merged_inner = pd.merge(left=data_supermarket, right=data_drugstore, on='phone', how='inner')"
   ]
  },
  {
   "cell_type": "code",
   "execution_count": null,
   "id": "1bd6b055",
   "metadata": {},
   "outputs": [],
   "source": [
    "data_merged_inner"
   ]
  },
  {
   "cell_type": "code",
   "execution_count": null,
   "id": "641d6772",
   "metadata": {},
   "outputs": [],
   "source": [
    "data_merged_inner.sample(3).T"
   ]
  },
  {
   "cell_type": "markdown",
   "id": "b5aa3f38",
   "metadata": {},
   "source": [
    "## Left merge: show the entire first/left dataset; if unique identifier matches in second/right dataset, add variables for the matching row; if not, leave blank/NaN"
   ]
  },
  {
   "cell_type": "code",
   "execution_count": null,
   "id": "26d51f5c",
   "metadata": {},
   "outputs": [],
   "source": [
    "data_merged_left = pd.merge(left=data_supermarket, right=data_drugstore, on='phone', how='left')"
   ]
  },
  {
   "cell_type": "code",
   "execution_count": null,
   "id": "b9ddef28",
   "metadata": {},
   "outputs": [],
   "source": [
    "data_merged_left"
   ]
  },
  {
   "cell_type": "code",
   "execution_count": null,
   "id": "5a2450df",
   "metadata": {},
   "outputs": [],
   "source": [
    "data_merged_left.sample(5).T"
   ]
  },
  {
   "cell_type": "markdown",
   "id": "3e1481f8-ba69-42ab-8cac-e2f65224bb79",
   "metadata": {},
   "source": [
    "## Outer merge: keep all data from both datasets; if unique identifier matches, add variables for the matching row; if not, leave blank/NaN"
   ]
  },
  {
   "cell_type": "code",
   "execution_count": null,
   "id": "fd797b12-6b1a-4dbe-9277-7bce90970812",
   "metadata": {},
   "outputs": [],
   "source": [
    "data_merged_outer = pd.merge(left=data_supermarket, right=data_drugstore, on='phone', how='outer')"
   ]
  },
  {
   "cell_type": "code",
   "execution_count": null,
   "id": "092589d1-4520-4c2c-8c51-5616cb04e098",
   "metadata": {},
   "outputs": [],
   "source": [
    "data_merged_outer"
   ]
  },
  {
   "cell_type": "code",
   "execution_count": null,
   "id": "9caab9ea-5f65-414c-b43a-f90fe2a9bd03",
   "metadata": {},
   "outputs": [],
   "source": [
    "data_merged_outer.sample(5).T"
   ]
  },
  {
   "cell_type": "markdown",
   "id": "0a717af8-02db-49fa-ac39-a2febc4e868f",
   "metadata": {},
   "source": [
    "## Note that if your two dataframes both have a column with the same name, it will rename it with `_x` for first/left and `_y` for second/right. `drinks` appears in both, so there is a `drinks_x` for supermarket and `drinks_y` for drugstore."
   ]
  },
  {
   "cell_type": "markdown",
   "id": "208f7720",
   "metadata": {},
   "source": [
    "# Export to file"
   ]
  },
  {
   "cell_type": "code",
   "execution_count": null,
   "id": "84f89962",
   "metadata": {},
   "outputs": [],
   "source": [
    "data_merged_inner.to_excel(\"supermarket_drugstore_inner_merge.xlsx\")\n",
    "data_merged_left.to_excel(\"supermarket_drugstore_left_merge.xlsx\")\n",
    "data_merged_outer.to_excel(\"supermarket_drugstore_outer_merge.xlsx\")"
   ]
  },
  {
   "cell_type": "code",
   "execution_count": null,
   "id": "333b012f",
   "metadata": {},
   "outputs": [],
   "source": []
  }
 ],
 "metadata": {
  "kernelspec": {
   "display_name": "Python 3 (clean)",
   "language": "python",
   "name": "python3_clean"
  },
  "language_info": {
   "codemirror_mode": {
    "name": "ipython",
    "version": 3
   },
   "file_extension": ".py",
   "mimetype": "text/x-python",
   "name": "python",
   "nbconvert_exporter": "python",
   "pygments_lexer": "ipython3",
   "version": "3.9.5"
  }
 },
 "nbformat": 4,
 "nbformat_minor": 5
}
