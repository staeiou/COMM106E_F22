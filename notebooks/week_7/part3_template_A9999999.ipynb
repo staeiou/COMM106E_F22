{
 "cells": [
  {
   "cell_type": "markdown",
   "id": "6efe8d0b",
   "metadata": {},
   "source": [
    "# Building a regression model\n",
    "\n",
    "## Make sure you have downloaded the [supermarket_marketing google sheet](https://drive.google.com/drive/u/1/folders/1UDhRY1XZ1y0H3jHckdRvImAaJozq3gup) as Excel and uploaded the supermarket_marketing.xlsx to this directory\n",
    "\n",
    "## Install libraries\n",
    "\n",
    "One of the new libraries we will be using is `statsmodels`, created and given away as open-source software by Skipper Seabold (American U), Josef Perktold (UNC), Chad Fulton (Federal Reserve), Kevin Sheppard (Oxford), and many others.\n",
    "\n",
    "We will also be using `seaborn` for visualizing graphs, also an open-source project by Martin Waskom (NYU, Flatiron Health)"
   ]
  },
  {
   "cell_type": "code",
   "execution_count": null,
   "id": "a6fc7e90",
   "metadata": {},
   "outputs": [],
   "source": [
    "!pip install pandas openpyxl statsmodels seaborn"
   ]
  },
  {
   "cell_type": "markdown",
   "id": "510e39c3",
   "metadata": {},
   "source": [
    "## Import libraries -- a pink box with `FutureWarning` is normal and OK"
   ]
  },
  {
   "cell_type": "code",
   "execution_count": null,
   "id": "1b70a46b",
   "metadata": {},
   "outputs": [],
   "source": [
    "import pandas as pd\n",
    "import statsmodels.api as sm\n",
    "import statsmodels.formula.api as smf\n",
    "import seaborn as sns\n",
    "import numpy as np"
   ]
  },
  {
   "cell_type": "markdown",
   "id": "17eafd9e-1f37-4e1a-982c-7a425e447a61",
   "metadata": {},
   "source": [
    "## Load and explore data"
   ]
  },
  {
   "cell_type": "code",
   "execution_count": null,
   "id": "b492b0dd",
   "metadata": {},
   "outputs": [],
   "source": [
    "data = pd.read_excel('supermarket_marketing.xlsx')"
   ]
  },
  {
   "cell_type": "code",
   "execution_count": null,
   "id": "5b5141b0",
   "metadata": {},
   "outputs": [],
   "source": [
    "data.sample(5).T"
   ]
  },
  {
   "cell_type": "markdown",
   "id": "a44f0a2e",
   "metadata": {},
   "source": [
    "## Creating a new variable based on existing variables"
   ]
  },
  {
   "cell_type": "code",
   "execution_count": null,
   "id": "803a3a1d",
   "metadata": {},
   "outputs": [],
   "source": [
    "data['kids_teens_at_home'] = data['kids_at_home'] + data['teens_at_home']\n",
    "data.sample(5)"
   ]
  },
  {
   "cell_type": "markdown",
   "id": "a52093ea",
   "metadata": {},
   "source": [
    "## Regressions\n",
    "For regressions, we need one input column and at least one input column. You cannot include the output column in the list of input columns\n",
    "\n",
    "### __For lab: change the output column to another column in this dataset you want to predict__"
   ]
  },
  {
   "cell_type": "code",
   "execution_count": null,
   "id": "af891415-22b6-48a5-9ea5-a05d78d7e2cc",
   "metadata": {},
   "outputs": [],
   "source": [
    "output_column = 'kids_teens_at_home'"
   ]
  },
  {
   "cell_type": "markdown",
   "id": "a10d3fbc-4693-4c98-8dd2-d2f8d1f5a0c4",
   "metadata": {},
   "source": [
    "### __For lab: change the input columns so you remove at least 3 of the existing items in this list, then add at least 3 new items from other number columns (no text columns) to build the model. Pick ones that make sense for what you are predicting.__"
   ]
  },
  {
   "cell_type": "code",
   "execution_count": null,
   "id": "1cb8db03",
   "metadata": {},
   "outputs": [],
   "source": [
    "input_columns = ['birthyear','wine','fruit','sweets','num_web_orders','complained']"
   ]
  },
  {
   "cell_type": "code",
   "execution_count": null,
   "id": "6b2c087c-c3f3-4cc3-842c-a9160ba6098b",
   "metadata": {},
   "outputs": [],
   "source": [
    "if output_column in input_columns:\n",
    "    print(\"ERROR! You cannot include the output column in the input column\")\n",
    "else:\n",
    "    print(\"OK\")"
   ]
  },
  {
   "cell_type": "code",
   "execution_count": null,
   "id": "237654c1",
   "metadata": {},
   "outputs": [],
   "source": [
    "data[input_columns]"
   ]
  },
  {
   "cell_type": "code",
   "execution_count": null,
   "id": "a66f6d1b-5ff9-49ee-8b0a-d52620433c0c",
   "metadata": {},
   "outputs": [],
   "source": [
    "all_relevant_columns = input_columns.copy()\n",
    "all_relevant_columns.append(output_column)\n",
    "all_relevant_columns"
   ]
  },
  {
   "cell_type": "code",
   "execution_count": null,
   "id": "5bc3a59f",
   "metadata": {},
   "outputs": [],
   "source": [
    "data_cleaned = data[all_relevant_columns].dropna()\n",
    "\n",
    "output = data_cleaned[output_column]\n",
    "inputs = data_cleaned[input_columns]"
   ]
  },
  {
   "cell_type": "markdown",
   "id": "5bdefa6d-abd1-44b8-8126-33cdb343a82e",
   "metadata": {},
   "source": [
    "## Training the model"
   ]
  },
  {
   "cell_type": "code",
   "execution_count": null,
   "id": "68d0d400",
   "metadata": {},
   "outputs": [],
   "source": [
    "model = sm.OLS(output, inputs).fit()"
   ]
  },
  {
   "cell_type": "markdown",
   "id": "2c0ef747-9dec-4b4c-8cb7-72c1f46ccb2e",
   "metadata": {},
   "source": [
    "### The model summary gives us a lot of information -- too much! We want to focus on two aspects: \n",
    "- R-squared, which is 0.816, which says that our model got within 81.6% of the correct values for `kids_teens_at_home`\n",
    "- The second table with all of our columns\n",
    "  - Focus on the `coef` column: the coefficient or weight of that variable in the formula, but normalized to the z-score.\n",
    "  - Focus on the `P>|t|` column: the probability (between 0 and 1) that this column is actually unrelated to the output column\n",
    "      - The closer to 0, the more this column should be in your final formula\n",
    "      - People disagree over how large is too large: some remove everything over 0.01, 0.05, or 0.1\n",
    "      - We will use 0.1, so remove columns from the list of inputs if they are __over__ 0.1\n",
    "- Note that `e` means \"10 to the power of\", or the number of spaces to move the decimal point forward or backward. So 2.23e-07 is 0.000000223. If the number after `e` is negative, add 1 minus that number of zeros before it. 2.23e+07 would be 22300000."
   ]
  },
  {
   "cell_type": "code",
   "execution_count": null,
   "id": "7ba0a29c-b605-444a-a957-15619ee2dbae",
   "metadata": {},
   "outputs": [],
   "source": [
    "model.summary()"
   ]
  },
  {
   "cell_type": "markdown",
   "id": "fe11d7f1-7fd3-458e-a7a6-cb99488c4128",
   "metadata": {},
   "source": [
    "## Weights for all columns with p-values under 0.1:"
   ]
  },
  {
   "cell_type": "code",
   "execution_count": null,
   "id": "ed6a45bd-ba43-4735-a8c6-c3bd6acab441",
   "metadata": {},
   "outputs": [],
   "source": [
    "model.params[model.pvalues < 0.1]"
   ]
  },
  {
   "cell_type": "markdown",
   "id": "1fb87bd3-95e4-4dcb-be99-9812c5a92b8f",
   "metadata": {},
   "source": [
    "## Weights for all columns with p-values greater or equal to 0.1:"
   ]
  },
  {
   "cell_type": "code",
   "execution_count": null,
   "id": "0df70e32-8f22-4473-8cd7-93ffbafa7836",
   "metadata": {},
   "outputs": [],
   "source": [
    "model.params[model.pvalues >= 0.1]"
   ]
  },
  {
   "cell_type": "markdown",
   "id": "117fb9a9-803f-4d50-a35d-8acc6de4c8c3",
   "metadata": {},
   "source": [
    "## __For lab: if you have columns with p-values greater or equal to 0.1, remove them from the list of input columns__"
   ]
  },
  {
   "cell_type": "code",
   "execution_count": null,
   "id": "0780b9d8-f0f0-453a-8681-c77dc1682ac1",
   "metadata": {},
   "outputs": [],
   "source": [
    "input_columns = ['birthyear','wine','fruit','sweets','num_web_orders']"
   ]
  },
  {
   "cell_type": "code",
   "execution_count": null,
   "id": "4609f3a9-14a3-4d20-a30f-907b854431ff",
   "metadata": {},
   "outputs": [],
   "source": [
    "if output_column in input_columns:\n",
    "    print(\"ERROR! You cannot include the output column in the input column\")\n",
    "else:\n",
    "    print(\"OK\")"
   ]
  },
  {
   "cell_type": "code",
   "execution_count": null,
   "id": "42543b6c-65c0-4f42-98a1-07bfaec0dbb5",
   "metadata": {},
   "outputs": [],
   "source": [
    "data[input_columns]"
   ]
  },
  {
   "cell_type": "code",
   "execution_count": null,
   "id": "8c259fa1-e4e7-415f-af08-b3999809dc12",
   "metadata": {},
   "outputs": [],
   "source": [
    "all_relevant_columns = input_columns.copy()\n",
    "all_relevant_columns.append(output_column)\n",
    "all_relevant_columns"
   ]
  },
  {
   "cell_type": "code",
   "execution_count": null,
   "id": "88a9e398-3573-40ca-b3dc-b17cf51891df",
   "metadata": {},
   "outputs": [],
   "source": [
    "data_cleaned = data[all_relevant_columns].dropna()\n",
    "\n",
    "output = data_cleaned[output_column]\n",
    "inputs = data_cleaned[input_columns]"
   ]
  },
  {
   "cell_type": "markdown",
   "id": "55b0979a-f46a-4e31-a014-bfa9ee39ec8c",
   "metadata": {},
   "source": [
    "## Training the model"
   ]
  },
  {
   "cell_type": "code",
   "execution_count": null,
   "id": "aa236891-d40c-41ce-a4ab-84a9f31cd6e1",
   "metadata": {},
   "outputs": [],
   "source": [
    "model = sm.OLS(output, inputs).fit()"
   ]
  },
  {
   "cell_type": "code",
   "execution_count": null,
   "id": "40717e8e-4283-499a-b9a0-d325194737aa",
   "metadata": {},
   "outputs": [],
   "source": [
    "model.summary()"
   ]
  },
  {
   "cell_type": "markdown",
   "id": "717bdccc-b0a0-443c-9102-ea4f7f06a25c",
   "metadata": {},
   "source": [
    "## Weights for all columns with p-values under 0.1:"
   ]
  },
  {
   "cell_type": "code",
   "execution_count": null,
   "id": "8c7e50cb-35cb-46dc-b0e4-1470f84e6a17",
   "metadata": {},
   "outputs": [],
   "source": [
    "model.params[model.pvalues < 0.1]"
   ]
  },
  {
   "cell_type": "markdown",
   "id": "af1e343e-f6ce-445f-841b-3c04981429fa",
   "metadata": {},
   "source": [
    "## Weights for all columns with p-values greater or equal to 0.1:"
   ]
  },
  {
   "cell_type": "code",
   "execution_count": null,
   "id": "52266b5f-c95b-4caa-ac9c-55a759fb2692",
   "metadata": {},
   "outputs": [],
   "source": [
    "model.params[model.pvalues >= 0.1]"
   ]
  },
  {
   "cell_type": "markdown",
   "id": "2952476e-fe8a-4c3b-8bce-f2b075323e6e",
   "metadata": {},
   "source": [
    "## __For lab: If you have no p-values greater or equal to 0.1, move to the next section. If you do, edit the last section to remove the input columns with high p-values and run it again.__"
   ]
  },
  {
   "cell_type": "markdown",
   "id": "4edc2849-5243-418b-a62c-8e0f3ff5fad5",
   "metadata": {},
   "source": [
    "## Make predictions using this formula on our same dataset"
   ]
  },
  {
   "cell_type": "code",
   "execution_count": null,
   "id": "b030324b-4a33-4dd0-bd89-95b6e018bc77",
   "metadata": {},
   "outputs": [],
   "source": [
    "output_predicted_name = output_column + \"_predicted\""
   ]
  },
  {
   "cell_type": "code",
   "execution_count": null,
   "id": "40f59120",
   "metadata": {},
   "outputs": [],
   "source": [
    "data_cleaned[output_predicted_name] = model.predict(inputs)"
   ]
  },
  {
   "cell_type": "code",
   "execution_count": null,
   "id": "b6825253-9ead-43d6-8b21-b12797df59c1",
   "metadata": {},
   "outputs": [],
   "source": [
    "data_cleaned.sample(5).T"
   ]
  },
  {
   "cell_type": "markdown",
   "id": "f172a30d-449e-4177-a452-4990583b51a3",
   "metadata": {},
   "source": [
    "## Visualize the actual and predicted columns in a scatterplot:"
   ]
  },
  {
   "cell_type": "code",
   "execution_count": null,
   "id": "56a381fe-8bf6-4227-8b51-165eb55d6e10",
   "metadata": {},
   "outputs": [],
   "source": [
    "sns.scatterplot(data=data_cleaned, x=output_column, y=output_predicted_name, alpha=0.1)"
   ]
  },
  {
   "cell_type": "markdown",
   "id": "2a185f6d-1e55-419b-beca-58fc28f06151",
   "metadata": {},
   "source": [
    "## Save to excel file"
   ]
  },
  {
   "cell_type": "code",
   "execution_count": null,
   "id": "f8020b89-df8a-48b8-9d84-63e0292f1eee",
   "metadata": {},
   "outputs": [],
   "source": [
    "data_cleaned.to_excel(\"supermarket_predictions.xlsx\")"
   ]
  },
  {
   "cell_type": "code",
   "execution_count": null,
   "id": "6e0cb347-353a-4904-8682-1ca58415b8f0",
   "metadata": {},
   "outputs": [],
   "source": []
  }
 ],
 "metadata": {
  "kernelspec": {
   "display_name": "Python 3 (clean)",
   "language": "python",
   "name": "python3_clean"
  },
  "language_info": {
   "codemirror_mode": {
    "name": "ipython",
    "version": 3
   },
   "file_extension": ".py",
   "mimetype": "text/x-python",
   "name": "python",
   "nbconvert_exporter": "python",
   "pygments_lexer": "ipython3",
   "version": "3.9.5"
  }
 },
 "nbformat": 4,
 "nbformat_minor": 5
}
