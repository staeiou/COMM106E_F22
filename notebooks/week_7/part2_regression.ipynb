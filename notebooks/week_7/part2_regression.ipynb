{
 "cells": [
  {
   "cell_type": "markdown",
   "id": "6efe8d0b",
   "metadata": {},
   "source": [
    "# Building a regression model\n",
    "\n",
    "## Install libraries\n",
    "\n",
    "One of the new libraries we will be using is `statsmodels`, created and given away as open-source software by Skipper Seabold (American U), Josef Perktold (UNC), Chad Fulton (Federal Reserve), Kevin Sheppard (Oxford), and many others.\n",
    "\n",
    "We will also be using `seaborn` for visualizing graphs, also an open-source project by Martin Waskom (NYU, Flatiron Health)"
   ]
  },
  {
   "cell_type": "code",
   "execution_count": null,
   "id": "a6fc7e90",
   "metadata": {},
   "outputs": [],
   "source": [
    "!pip install pandas openpyxl statsmodels seaborn"
   ]
  },
  {
   "cell_type": "markdown",
   "id": "510e39c3",
   "metadata": {},
   "source": [
    "## Import libraries -- a pink box with `FutureWarning` is normal and OK"
   ]
  },
  {
   "cell_type": "code",
   "execution_count": 2,
   "id": "1b70a46b",
   "metadata": {},
   "outputs": [
    {
     "name": "stderr",
     "output_type": "stream",
     "text": [
      "/opt/conda/lib/python3.9/site-packages/statsmodels/tsa/base/tsa_model.py:7: FutureWarning: pandas.Int64Index is deprecated and will be removed from pandas in a future version. Use pandas.Index with the appropriate dtype instead.\n",
      "  from pandas import (to_datetime, Int64Index, DatetimeIndex, Period,\n",
      "/opt/conda/lib/python3.9/site-packages/statsmodels/tsa/base/tsa_model.py:7: FutureWarning: pandas.Float64Index is deprecated and will be removed from pandas in a future version. Use pandas.Index with the appropriate dtype instead.\n",
      "  from pandas import (to_datetime, Int64Index, DatetimeIndex, Period,\n"
     ]
    }
   ],
   "source": [
    "import pandas as pd\n",
    "import statsmodels.api as sm\n",
    "import statsmodels.formula.api as smf\n",
    "import seaborn as sns\n",
    "import numpy as np"
   ]
  },
  {
   "cell_type": "markdown",
   "id": "17eafd9e-1f37-4e1a-982c-7a425e447a61",
   "metadata": {},
   "source": [
    "## Load and explore data"
   ]
  },
  {
   "cell_type": "code",
   "execution_count": 3,
   "id": "b492b0dd",
   "metadata": {},
   "outputs": [],
   "source": [
    "data = pd.read_excel('supermarket_marketing.xlsx')"
   ]
  },
  {
   "cell_type": "code",
   "execution_count": 4,
   "id": "5b5141b0",
   "metadata": {},
   "outputs": [
    {
     "data": {
      "text/html": [
       "<div>\n",
       "<style scoped>\n",
       "    .dataframe tbody tr th:only-of-type {\n",
       "        vertical-align: middle;\n",
       "    }\n",
       "\n",
       "    .dataframe tbody tr th {\n",
       "        vertical-align: top;\n",
       "    }\n",
       "\n",
       "    .dataframe thead th {\n",
       "        text-align: right;\n",
       "    }\n",
       "</style>\n",
       "<table border=\"1\" class=\"dataframe\">\n",
       "  <thead>\n",
       "    <tr style=\"text-align: right;\">\n",
       "      <th></th>\n",
       "      <th>317</th>\n",
       "      <th>1236</th>\n",
       "      <th>1405</th>\n",
       "      <th>1637</th>\n",
       "      <th>913</th>\n",
       "    </tr>\n",
       "  </thead>\n",
       "  <tbody>\n",
       "    <tr>\n",
       "      <th>id</th>\n",
       "      <td>6878</td>\n",
       "      <td>1490</td>\n",
       "      <td>8939</td>\n",
       "      <td>2930</td>\n",
       "      <td>10951</td>\n",
       "    </tr>\n",
       "    <tr>\n",
       "      <th>phone</th>\n",
       "      <td>4571452287.0</td>\n",
       "      <td>3374101130.0</td>\n",
       "      <td>4522443459.0</td>\n",
       "      <td>4398177415.0</td>\n",
       "      <td>7731418468.0</td>\n",
       "    </tr>\n",
       "    <tr>\n",
       "      <th>country</th>\n",
       "      <td>SP</td>\n",
       "      <td>CA</td>\n",
       "      <td>SP</td>\n",
       "      <td>SA</td>\n",
       "      <td>SP</td>\n",
       "    </tr>\n",
       "    <tr>\n",
       "      <th>education</th>\n",
       "      <td>High-school</td>\n",
       "      <td>High-school</td>\n",
       "      <td>High-school</td>\n",
       "      <td>Master</td>\n",
       "      <td>High-school</td>\n",
       "    </tr>\n",
       "    <tr>\n",
       "      <th>married</th>\n",
       "      <td>Widow</td>\n",
       "      <td>Married</td>\n",
       "      <td>Divorced</td>\n",
       "      <td>Single</td>\n",
       "      <td>Married</td>\n",
       "    </tr>\n",
       "    <tr>\n",
       "      <th>income</th>\n",
       "      <td>27421.0</td>\n",
       "      <td>55759.0</td>\n",
       "      <td>61250.0</td>\n",
       "      <td>68092.0</td>\n",
       "      <td>45688.0</td>\n",
       "    </tr>\n",
       "    <tr>\n",
       "      <th>birthyear</th>\n",
       "      <td>1954</td>\n",
       "      <td>1962</td>\n",
       "      <td>1959</td>\n",
       "      <td>1978</td>\n",
       "      <td>1968</td>\n",
       "    </tr>\n",
       "    <tr>\n",
       "      <th>wine</th>\n",
       "      <td>43</td>\n",
       "      <td>675</td>\n",
       "      <td>382</td>\n",
       "      <td>852</td>\n",
       "      <td>279</td>\n",
       "    </tr>\n",
       "    <tr>\n",
       "      <th>fruit</th>\n",
       "      <td>12</td>\n",
       "      <td>0</td>\n",
       "      <td>138</td>\n",
       "      <td>60</td>\n",
       "      <td>0</td>\n",
       "    </tr>\n",
       "    <tr>\n",
       "      <th>meat</th>\n",
       "      <td>96</td>\n",
       "      <td>85</td>\n",
       "      <td>65</td>\n",
       "      <td>207</td>\n",
       "      <td>18</td>\n",
       "    </tr>\n",
       "    <tr>\n",
       "      <th>fish</th>\n",
       "      <td>78</td>\n",
       "      <td>10</td>\n",
       "      <td>60</td>\n",
       "      <td>78</td>\n",
       "      <td>0</td>\n",
       "    </tr>\n",
       "    <tr>\n",
       "      <th>sweets</th>\n",
       "      <td>11</td>\n",
       "      <td>16</td>\n",
       "      <td>24</td>\n",
       "      <td>5</td>\n",
       "      <td>17</td>\n",
       "    </tr>\n",
       "    <tr>\n",
       "      <th>drinks</th>\n",
       "      <td>55</td>\n",
       "      <td>77</td>\n",
       "      <td>59</td>\n",
       "      <td>48</td>\n",
       "      <td>9</td>\n",
       "    </tr>\n",
       "    <tr>\n",
       "      <th>coupons_used</th>\n",
       "      <td>3</td>\n",
       "      <td>5</td>\n",
       "      <td>6</td>\n",
       "      <td>2</td>\n",
       "      <td>2</td>\n",
       "    </tr>\n",
       "    <tr>\n",
       "      <th>num_web_orders</th>\n",
       "      <td>4</td>\n",
       "      <td>10</td>\n",
       "      <td>5</td>\n",
       "      <td>2</td>\n",
       "      <td>3</td>\n",
       "    </tr>\n",
       "    <tr>\n",
       "      <th>num_phone_orders</th>\n",
       "      <td>1</td>\n",
       "      <td>3</td>\n",
       "      <td>2</td>\n",
       "      <td>6</td>\n",
       "      <td>1</td>\n",
       "    </tr>\n",
       "    <tr>\n",
       "      <th>num_store_orders</th>\n",
       "      <td>6</td>\n",
       "      <td>8</td>\n",
       "      <td>12</td>\n",
       "      <td>10</td>\n",
       "      <td>8</td>\n",
       "    </tr>\n",
       "    <tr>\n",
       "      <th>web_visits_monthly</th>\n",
       "      <td>7</td>\n",
       "      <td>8</td>\n",
       "      <td>5</td>\n",
       "      <td>5</td>\n",
       "      <td>4</td>\n",
       "    </tr>\n",
       "    <tr>\n",
       "      <th>kids_at_home</th>\n",
       "      <td>0</td>\n",
       "      <td>0</td>\n",
       "      <td>0</td>\n",
       "      <td>0</td>\n",
       "      <td>0</td>\n",
       "    </tr>\n",
       "    <tr>\n",
       "      <th>teens_at_home</th>\n",
       "      <td>0</td>\n",
       "      <td>1</td>\n",
       "      <td>1</td>\n",
       "      <td>0</td>\n",
       "      <td>1</td>\n",
       "    </tr>\n",
       "    <tr>\n",
       "      <th>date_enrolled</th>\n",
       "      <td>2012-12-12 00:00:00</td>\n",
       "      <td>2012-11-28 00:00:00</td>\n",
       "      <td>2012-12-16 00:00:00</td>\n",
       "      <td>2013-12-16 00:00:00</td>\n",
       "      <td>2014-01-25 00:00:00</td>\n",
       "    </tr>\n",
       "    <tr>\n",
       "      <th>days_since_purchase</th>\n",
       "      <td>14</td>\n",
       "      <td>84</td>\n",
       "      <td>49</td>\n",
       "      <td>7</td>\n",
       "      <td>20</td>\n",
       "    </tr>\n",
       "    <tr>\n",
       "      <th>accepted_offer_1</th>\n",
       "      <td>0</td>\n",
       "      <td>0</td>\n",
       "      <td>0</td>\n",
       "      <td>0</td>\n",
       "      <td>0</td>\n",
       "    </tr>\n",
       "    <tr>\n",
       "      <th>accepted_offer_2</th>\n",
       "      <td>0</td>\n",
       "      <td>0</td>\n",
       "      <td>0</td>\n",
       "      <td>0</td>\n",
       "      <td>0</td>\n",
       "    </tr>\n",
       "    <tr>\n",
       "      <th>accepted_offer_3</th>\n",
       "      <td>0</td>\n",
       "      <td>0</td>\n",
       "      <td>0</td>\n",
       "      <td>0</td>\n",
       "      <td>0</td>\n",
       "    </tr>\n",
       "    <tr>\n",
       "      <th>accepted_offer_4</th>\n",
       "      <td>0</td>\n",
       "      <td>0</td>\n",
       "      <td>0</td>\n",
       "      <td>0</td>\n",
       "      <td>1</td>\n",
       "    </tr>\n",
       "    <tr>\n",
       "      <th>accepted_offer_5</th>\n",
       "      <td>0</td>\n",
       "      <td>0</td>\n",
       "      <td>0</td>\n",
       "      <td>0</td>\n",
       "      <td>0</td>\n",
       "    </tr>\n",
       "    <tr>\n",
       "      <th>opened_last_email</th>\n",
       "      <td>0</td>\n",
       "      <td>0</td>\n",
       "      <td>0</td>\n",
       "      <td>0</td>\n",
       "      <td>0</td>\n",
       "    </tr>\n",
       "    <tr>\n",
       "      <th>complained</th>\n",
       "      <td>0</td>\n",
       "      <td>0</td>\n",
       "      <td>0</td>\n",
       "      <td>0</td>\n",
       "      <td>0</td>\n",
       "    </tr>\n",
       "  </tbody>\n",
       "</table>\n",
       "</div>"
      ],
      "text/plain": [
       "                                    317                  1236  \\\n",
       "id                                  6878                 1490   \n",
       "phone                       4571452287.0         3374101130.0   \n",
       "country                               SP                   CA   \n",
       "education                    High-school          High-school   \n",
       "married                            Widow              Married   \n",
       "income                           27421.0              55759.0   \n",
       "birthyear                           1954                 1962   \n",
       "wine                                  43                  675   \n",
       "fruit                                 12                    0   \n",
       "meat                                  96                   85   \n",
       "fish                                  78                   10   \n",
       "sweets                                11                   16   \n",
       "drinks                                55                   77   \n",
       "coupons_used                           3                    5   \n",
       "num_web_orders                         4                   10   \n",
       "num_phone_orders                       1                    3   \n",
       "num_store_orders                       6                    8   \n",
       "web_visits_monthly                     7                    8   \n",
       "kids_at_home                           0                    0   \n",
       "teens_at_home                          0                    1   \n",
       "date_enrolled        2012-12-12 00:00:00  2012-11-28 00:00:00   \n",
       "days_since_purchase                   14                   84   \n",
       "accepted_offer_1                       0                    0   \n",
       "accepted_offer_2                       0                    0   \n",
       "accepted_offer_3                       0                    0   \n",
       "accepted_offer_4                       0                    0   \n",
       "accepted_offer_5                       0                    0   \n",
       "opened_last_email                      0                    0   \n",
       "complained                             0                    0   \n",
       "\n",
       "                                    1405                 1637  \\\n",
       "id                                  8939                 2930   \n",
       "phone                       4522443459.0         4398177415.0   \n",
       "country                               SP                   SA   \n",
       "education                    High-school               Master   \n",
       "married                         Divorced               Single   \n",
       "income                           61250.0              68092.0   \n",
       "birthyear                           1959                 1978   \n",
       "wine                                 382                  852   \n",
       "fruit                                138                   60   \n",
       "meat                                  65                  207   \n",
       "fish                                  60                   78   \n",
       "sweets                                24                    5   \n",
       "drinks                                59                   48   \n",
       "coupons_used                           6                    2   \n",
       "num_web_orders                         5                    2   \n",
       "num_phone_orders                       2                    6   \n",
       "num_store_orders                      12                   10   \n",
       "web_visits_monthly                     5                    5   \n",
       "kids_at_home                           0                    0   \n",
       "teens_at_home                          1                    0   \n",
       "date_enrolled        2012-12-16 00:00:00  2013-12-16 00:00:00   \n",
       "days_since_purchase                   49                    7   \n",
       "accepted_offer_1                       0                    0   \n",
       "accepted_offer_2                       0                    0   \n",
       "accepted_offer_3                       0                    0   \n",
       "accepted_offer_4                       0                    0   \n",
       "accepted_offer_5                       0                    0   \n",
       "opened_last_email                      0                    0   \n",
       "complained                             0                    0   \n",
       "\n",
       "                                    913   \n",
       "id                                 10951  \n",
       "phone                       7731418468.0  \n",
       "country                               SP  \n",
       "education                    High-school  \n",
       "married                          Married  \n",
       "income                           45688.0  \n",
       "birthyear                           1968  \n",
       "wine                                 279  \n",
       "fruit                                  0  \n",
       "meat                                  18  \n",
       "fish                                   0  \n",
       "sweets                                17  \n",
       "drinks                                 9  \n",
       "coupons_used                           2  \n",
       "num_web_orders                         3  \n",
       "num_phone_orders                       1  \n",
       "num_store_orders                       8  \n",
       "web_visits_monthly                     4  \n",
       "kids_at_home                           0  \n",
       "teens_at_home                          1  \n",
       "date_enrolled        2014-01-25 00:00:00  \n",
       "days_since_purchase                   20  \n",
       "accepted_offer_1                       0  \n",
       "accepted_offer_2                       0  \n",
       "accepted_offer_3                       0  \n",
       "accepted_offer_4                       1  \n",
       "accepted_offer_5                       0  \n",
       "opened_last_email                      0  \n",
       "complained                             0  "
      ]
     },
     "execution_count": 4,
     "metadata": {},
     "output_type": "execute_result"
    }
   ],
   "source": [
    "data.sample(5).T"
   ]
  },
  {
   "cell_type": "markdown",
   "id": "a44f0a2e",
   "metadata": {},
   "source": [
    "## Creating a new variable based on existing variables"
   ]
  },
  {
   "cell_type": "code",
   "execution_count": 5,
   "id": "803a3a1d",
   "metadata": {},
   "outputs": [
    {
     "data": {
      "text/plain": [
       "1    1103\n",
       "0     626\n",
       "2     418\n",
       "3      52\n",
       "Name: kids_teens_at_home, dtype: int64"
      ]
     },
     "execution_count": 5,
     "metadata": {},
     "output_type": "execute_result"
    }
   ],
   "source": [
    "data['kids_teens_at_home'] = data['kids_at_home'] + data['teens_at_home']\n",
    "data['kids_teens_at_home'].value_counts()"
   ]
  },
  {
   "cell_type": "markdown",
   "id": "29bda749",
   "metadata": {},
   "source": [
    "## Drawing a scatterplot showing the relationship between two variables"
   ]
  },
  {
   "cell_type": "code",
   "execution_count": 6,
   "id": "a79b000c",
   "metadata": {},
   "outputs": [
    {
     "data": {
      "text/plain": [
       "<AxesSubplot:xlabel='sweets', ylabel='kids_teens_at_home'>"
      ]
     },
     "execution_count": 6,
     "metadata": {},
     "output_type": "execute_result"
    },
    {
     "data": {
      "image/png": "[encoded data removed]",
      "text/plain": [
       "<Figure size 432x288 with 1 Axes>"
      ]
     },
     "metadata": {
      "needs_background": "light"
     },
     "output_type": "display_data"
    }
   ],
   "source": [
    "sns.scatterplot(data=data, x='sweets', y='kids_teens_at_home', alpha=.05)"
   ]
  },
  {
   "cell_type": "code",
   "execution_count": 7,
   "id": "349230f1-07ae-440b-99d1-1ed6e99b7a6a",
   "metadata": {},
   "outputs": [
    {
     "data": {
      "text/plain": [
       "<AxesSubplot:xlabel='birthyear', ylabel='kids_teens_at_home'>"
      ]
     },
     "execution_count": 7,
     "metadata": {},
     "output_type": "execute_result"
    },
    {
     "data": {
      "image/png": "[encoded data removed]",
      "text/plain": [
       "<Figure size 432x288 with 1 Axes>"
      ]
     },
     "metadata": {
      "needs_background": "light"
     },
     "output_type": "display_data"
    }
   ],
   "source": [
    "sns.scatterplot(data=data, x='birthyear', y='kids_teens_at_home', alpha=.03)"
   ]
  },
  {
   "cell_type": "markdown",
   "id": "f8507339",
   "metadata": {},
   "source": [
    "# Pivot tables\n",
    "\n",
    "What if we want to get the mean (or average) amount of sweets purchases, broken out by the number of kids and teens at home? We can use `pivot` function:"
   ]
  },
  {
   "cell_type": "code",
   "execution_count": 8,
   "id": "50311b0a",
   "metadata": {},
   "outputs": [
    {
     "data": {
      "text/plain": [
       "kids_teens_at_home\n",
       "0    10.674121\n",
       "1    35.495920\n",
       "2    60.686603\n",
       "3    90.019231\n",
       "dtype: float64"
      ]
     },
     "execution_count": 8,
     "metadata": {},
     "output_type": "execute_result"
    }
   ],
   "source": [
    "data.pivot(columns='kids_teens_at_home', values='sweets').mean()"
   ]
  },
  {
   "cell_type": "markdown",
   "id": "fe3ab4a2-5231-4dc8-a711-c68788ae8a50",
   "metadata": {},
   "source": [
    "Or the same question, but for wine instead of sweets?"
   ]
  },
  {
   "cell_type": "code",
   "execution_count": 9,
   "id": "fce80e18-9fa4-4b8b-867c-3d3b32a42b8e",
   "metadata": {},
   "outputs": [
    {
     "data": {
      "text/plain": [
       "kids_teens_at_home\n",
       "0    486.361022\n",
       "1    268.544878\n",
       "2    142.062201\n",
       "3    166.346154\n",
       "dtype: float64"
      ]
     },
     "execution_count": 9,
     "metadata": {},
     "output_type": "execute_result"
    }
   ],
   "source": [
    "data.pivot(columns='kids_teens_at_home', values='wine').mean()"
   ]
  },
  {
   "cell_type": "markdown",
   "id": "78120b72-8007-4396-ac01-d072caae22c9",
   "metadata": {},
   "source": [
    "Instead of finding the mean (or average), we could also add them all up with `.sum()`, which would tell us the total sales by each category. On average, families with more kids and teens at home spend more on sweets, but there are apparently far fewer of them, because total sales to 3 kid+teen households are very low:"
   ]
  },
  {
   "cell_type": "code",
   "execution_count": 10,
   "id": "f4ee932c-315a-4c86-877e-1ed8e673182c",
   "metadata": {},
   "outputs": [
    {
     "data": {
      "text/plain": [
       "kids_teens_at_home\n",
       "0     6682.0\n",
       "1    39152.0\n",
       "2    25367.0\n",
       "3     4681.0\n",
       "dtype: float64"
      ]
     },
     "execution_count": 10,
     "metadata": {},
     "output_type": "execute_result"
    }
   ],
   "source": [
    "data.pivot(columns='kids_teens_at_home', values='sweets').sum()"
   ]
  },
  {
   "cell_type": "code",
   "execution_count": 11,
   "id": "e9464e8c-7361-4236-8795-d58704a52915",
   "metadata": {},
   "outputs": [
    {
     "data": {
      "text/plain": [
       "kids_teens_at_home\n",
       "0    1968.520767\n",
       "1    1970.417044\n",
       "2    1965.698565\n",
       "3    1962.461538\n",
       "dtype: float64"
      ]
     },
     "execution_count": 11,
     "metadata": {},
     "output_type": "execute_result"
    }
   ],
   "source": [
    "data.pivot(columns='kids_teens_at_home', values='birthyear').mean()"
   ]
  },
  {
   "cell_type": "markdown",
   "id": "2f26420a-4537-428f-ae2c-29bf1ef4a95a",
   "metadata": {},
   "source": [
    "What if we flip the columns and values? This gives us the mean number of kids and teens at home for each birthyear:"
   ]
  },
  {
   "cell_type": "code",
   "execution_count": 12,
   "id": "79406956-5a78-41a8-8677-a52db2a0332c",
   "metadata": {},
   "outputs": [
    {
     "data": {
      "text/plain": [
       "birthyear\n",
       "1923    1.000000\n",
       "1940    0.000000\n",
       "1941    0.000000\n",
       "1943    0.000000\n",
       "1944    0.000000\n",
       "1945    0.000000\n",
       "1946    0.437500\n",
       "1947    0.312500\n",
       "1948    0.681818\n",
       "1949    0.833333\n",
       "1950    1.344828\n",
       "1951    1.000000\n",
       "1952    1.000000\n",
       "1953    1.114286\n",
       "1954    0.938776\n",
       "1955    1.020408\n",
       "1956    1.109091\n",
       "1957    1.023256\n",
       "1958    0.981132\n",
       "1959    0.862745\n",
       "1960    0.957447\n",
       "1961    0.972222\n",
       "1962    0.976744\n",
       "1963    1.090909\n",
       "1964    1.142857\n",
       "1965    1.040541\n",
       "1966    1.148936\n",
       "1967    1.363636\n",
       "1968    1.428571\n",
       "1969    0.971014\n",
       "1970    0.973684\n",
       "1971    1.137931\n",
       "1972    1.142857\n",
       "1973    1.188406\n",
       "1974    1.031250\n",
       "1975    1.084337\n",
       "1976    1.081395\n",
       "1977    1.040000\n",
       "1978    1.054054\n",
       "1979    1.000000\n",
       "1980    0.894737\n",
       "1981    0.923077\n",
       "1982    0.488889\n",
       "1983    0.585366\n",
       "1984    0.763158\n",
       "1985    0.774194\n",
       "1986    0.690476\n",
       "1987    0.333333\n",
       "1988    0.571429\n",
       "1989    0.655172\n",
       "1990    0.294118\n",
       "1991    0.066667\n",
       "1992    0.307692\n",
       "1993    0.000000\n",
       "1994    0.000000\n",
       "1995    0.000000\n",
       "1996    0.000000\n",
       "dtype: float64"
      ]
     },
     "execution_count": 12,
     "metadata": {},
     "output_type": "execute_result"
    }
   ],
   "source": [
    "data.pivot(columns='birthyear', values='kids_teens_at_home').mean()"
   ]
  },
  {
   "cell_type": "code",
   "execution_count": 13,
   "id": "b25e22af-2195-41b8-ae88-b9921996f883",
   "metadata": {},
   "outputs": [
    {
     "data": {
      "text/plain": [
       "<AxesSubplot:xlabel='birthyear'>"
      ]
     },
     "execution_count": 13,
     "metadata": {},
     "output_type": "execute_result"
    },
    {
     "data": {
      "image/png": "[encoded data removed]",
      "text/plain": [
       "<Figure size 432x288 with 1 Axes>"
      ]
     },
     "metadata": {
      "needs_background": "light"
     },
     "output_type": "display_data"
    }
   ],
   "source": [
    "data.pivot(columns='birthyear', values='kids_teens_at_home').mean().plot(kind='line')"
   ]
  },
  {
   "cell_type": "markdown",
   "id": "a52093ea",
   "metadata": {},
   "source": [
    "## Regressions\n",
    "For regressions, we need one input column and at least one input column. You cannot include the output column in the list of input columns"
   ]
  },
  {
   "cell_type": "code",
   "execution_count": 14,
   "id": "af891415-22b6-48a5-9ea5-a05d78d7e2cc",
   "metadata": {},
   "outputs": [],
   "source": [
    "output_column = 'kids_teens_at_home'"
   ]
  },
  {
   "cell_type": "code",
   "execution_count": 15,
   "id": "1cb8db03",
   "metadata": {},
   "outputs": [],
   "source": [
    "input_columns = ['birthyear','wine','fruit','sweets','num_web_orders']"
   ]
  },
  {
   "cell_type": "code",
   "execution_count": 16,
   "id": "6b2c087c-c3f3-4cc3-842c-a9160ba6098b",
   "metadata": {},
   "outputs": [
    {
     "name": "stdout",
     "output_type": "stream",
     "text": [
      "OK\n"
     ]
    }
   ],
   "source": [
    "if output_column in input_columns:\n",
    "    print(\"ERROR! You cannot include the output column in the input column\")\n",
    "else:\n",
    "    print(\"OK\")"
   ]
  },
  {
   "cell_type": "code",
   "execution_count": 17,
   "id": "237654c1",
   "metadata": {},
   "outputs": [
    {
     "data": {
      "text/html": [
       "<div>\n",
       "<style scoped>\n",
       "    .dataframe tbody tr th:only-of-type {\n",
       "        vertical-align: middle;\n",
       "    }\n",
       "\n",
       "    .dataframe tbody tr th {\n",
       "        vertical-align: top;\n",
       "    }\n",
       "\n",
       "    .dataframe thead th {\n",
       "        text-align: right;\n",
       "    }\n",
       "</style>\n",
       "<table border=\"1\" class=\"dataframe\">\n",
       "  <thead>\n",
       "    <tr style=\"text-align: right;\">\n",
       "      <th></th>\n",
       "      <th>birthyear</th>\n",
       "      <th>wine</th>\n",
       "      <th>fruit</th>\n",
       "      <th>sweets</th>\n",
       "      <th>num_web_orders</th>\n",
       "    </tr>\n",
       "  </thead>\n",
       "  <tbody>\n",
       "    <tr>\n",
       "      <th>0</th>\n",
       "      <td>1943</td>\n",
       "      <td>532</td>\n",
       "      <td>126</td>\n",
       "      <td>18</td>\n",
       "      <td>5</td>\n",
       "    </tr>\n",
       "    <tr>\n",
       "      <th>1</th>\n",
       "      <td>1951</td>\n",
       "      <td>48</td>\n",
       "      <td>5</td>\n",
       "      <td>13</td>\n",
       "      <td>2</td>\n",
       "    </tr>\n",
       "    <tr>\n",
       "      <th>2</th>\n",
       "      <td>1954</td>\n",
       "      <td>161</td>\n",
       "      <td>0</td>\n",
       "      <td>48</td>\n",
       "      <td>4</td>\n",
       "    </tr>\n",
       "    <tr>\n",
       "      <th>3</th>\n",
       "      <td>1955</td>\n",
       "      <td>264</td>\n",
       "      <td>0</td>\n",
       "      <td>17</td>\n",
       "      <td>6</td>\n",
       "    </tr>\n",
       "    <tr>\n",
       "      <th>4</th>\n",
       "      <td>1957</td>\n",
       "      <td>230</td>\n",
       "      <td>42</td>\n",
       "      <td>67</td>\n",
       "      <td>7</td>\n",
       "    </tr>\n",
       "    <tr>\n",
       "      <th>...</th>\n",
       "      <td>...</td>\n",
       "      <td>...</td>\n",
       "      <td>...</td>\n",
       "      <td>...</td>\n",
       "      <td>...</td>\n",
       "    </tr>\n",
       "    <tr>\n",
       "      <th>2194</th>\n",
       "      <td>1949</td>\n",
       "      <td>2</td>\n",
       "      <td>1</td>\n",
       "      <td>16</td>\n",
       "      <td>0</td>\n",
       "    </tr>\n",
       "    <tr>\n",
       "      <th>2195</th>\n",
       "      <td>1977</td>\n",
       "      <td>1</td>\n",
       "      <td>0</td>\n",
       "      <td>17</td>\n",
       "      <td>0</td>\n",
       "    </tr>\n",
       "    <tr>\n",
       "      <th>2196</th>\n",
       "      <td>1971</td>\n",
       "      <td>39</td>\n",
       "      <td>1</td>\n",
       "      <td>36</td>\n",
       "      <td>1</td>\n",
       "    </tr>\n",
       "    <tr>\n",
       "      <th>2197</th>\n",
       "      <td>1982</td>\n",
       "      <td>55</td>\n",
       "      <td>16</td>\n",
       "      <td>16</td>\n",
       "      <td>0</td>\n",
       "    </tr>\n",
       "    <tr>\n",
       "      <th>2198</th>\n",
       "      <td>1976</td>\n",
       "      <td>85</td>\n",
       "      <td>1</td>\n",
       "      <td>73</td>\n",
       "      <td>0</td>\n",
       "    </tr>\n",
       "  </tbody>\n",
       "</table>\n",
       "<p>2199 rows × 5 columns</p>\n",
       "</div>"
      ],
      "text/plain": [
       "      birthyear  wine  fruit  sweets  num_web_orders\n",
       "0          1943   532    126      18               5\n",
       "1          1951    48      5      13               2\n",
       "2          1954   161      0      48               4\n",
       "3          1955   264      0      17               6\n",
       "4          1957   230     42      67               7\n",
       "...         ...   ...    ...     ...             ...\n",
       "2194       1949     2      1      16               0\n",
       "2195       1977     1      0      17               0\n",
       "2196       1971    39      1      36               1\n",
       "2197       1982    55     16      16               0\n",
       "2198       1976    85      1      73               0\n",
       "\n",
       "[2199 rows x 5 columns]"
      ]
     },
     "execution_count": 17,
     "metadata": {},
     "output_type": "execute_result"
    }
   ],
   "source": [
    "data[input_columns]"
   ]
  },
  {
   "cell_type": "code",
   "execution_count": 18,
   "id": "a66f6d1b-5ff9-49ee-8b0a-d52620433c0c",
   "metadata": {},
   "outputs": [
    {
     "data": {
      "text/plain": [
       "['birthyear',\n",
       " 'wine',\n",
       " 'fruit',\n",
       " 'sweets',\n",
       " 'num_web_orders',\n",
       " 'kids_teens_at_home']"
      ]
     },
     "execution_count": 18,
     "metadata": {},
     "output_type": "execute_result"
    }
   ],
   "source": [
    "all_relevant_columns = input_columns.copy()\n",
    "all_relevant_columns.append(output_column)\n",
    "all_relevant_columns"
   ]
  },
  {
   "cell_type": "code",
   "execution_count": 19,
   "id": "5bc3a59f",
   "metadata": {},
   "outputs": [],
   "source": [
    "data_cleaned = data[all_relevant_columns].dropna()\n",
    "\n",
    "output = data_cleaned[output_column]\n",
    "inputs = data_cleaned[input_columns]"
   ]
  },
  {
   "cell_type": "markdown",
   "id": "5bdefa6d-abd1-44b8-8126-33cdb343a82e",
   "metadata": {},
   "source": [
    "## Training the model"
   ]
  },
  {
   "cell_type": "code",
   "execution_count": 20,
   "id": "68d0d400",
   "metadata": {},
   "outputs": [],
   "source": [
    "model = sm.OLS(output, inputs).fit()"
   ]
  },
  {
   "cell_type": "markdown",
   "id": "2c0ef747-9dec-4b4c-8cb7-72c1f46ccb2e",
   "metadata": {},
   "source": [
    "### The model summary gives us a lot of information -- too much! We want to focus on two aspects: \n",
    "- R-squared, which is 0.816, which says that our model got within 81.6% of the correct values for `kids_teens_at_home`\n",
    "- The second table with all of our columns\n",
    "  - Focus on the `coef` column: the coefficient or weight of that variable in the formula, but normalized to the z-score.\n",
    "  - Focus on the `P>|t|` column: the probability (between 0 and 1) that this column is actually unrelated to the output column\n",
    "      - The closer to 0, the more this column should be in your final formula\n",
    "      - People disagree over how large is too large: some remove everything over 0.01, 0.05, or 0.1\n",
    "      - We will use 0.1, so remove columns from the list of inputs if they are __over__ 0.1\n",
    "- Note that `e` means \"10 to the power of\", or the number of spaces to move the decimal point forward or backward. So 2.23e-07 is 0.000000223. If the number after `e` is negative, add 1 minus that number of zeros before it. 2.23e+07 would be 22300000."
   ]
  },
  {
   "cell_type": "code",
   "execution_count": 21,
   "id": "7ba0a29c-b605-444a-a957-15619ee2dbae",
   "metadata": {},
   "outputs": [
    {
     "data": {
      "text/html": [
       "<table class=\"simpletable\">\n",
       "<caption>OLS Regression Results</caption>\n",
       "<tr>\n",
       "  <th>Dep. Variable:</th>    <td>kids_teens_at_home</td> <th>  R-squared (uncentered):</th>      <td>   0.816</td>\n",
       "</tr>\n",
       "<tr>\n",
       "  <th>Model:</th>                    <td>OLS</td>        <th>  Adj. R-squared (uncentered):</th> <td>   0.815</td>\n",
       "</tr>\n",
       "<tr>\n",
       "  <th>Method:</th>              <td>Least Squares</td>   <th>  F-statistic:       </th>          <td>   1943.</td>\n",
       "</tr>\n",
       "<tr>\n",
       "  <th>Date:</th>              <td>Thu, 10 Nov 2022</td>  <th>  Prob (F-statistic):</th>           <td>  0.00</td> \n",
       "</tr>\n",
       "<tr>\n",
       "  <th>Time:</th>                  <td>21:56:46</td>      <th>  Log-Likelihood:    </th>          <td> -1687.4</td>\n",
       "</tr>\n",
       "<tr>\n",
       "  <th>No. Observations:</th>       <td>  2199</td>       <th>  AIC:               </th>          <td>   3385.</td>\n",
       "</tr>\n",
       "<tr>\n",
       "  <th>Df Residuals:</th>           <td>  2194</td>       <th>  BIC:               </th>          <td>   3413.</td>\n",
       "</tr>\n",
       "<tr>\n",
       "  <th>Df Model:</th>               <td>     5</td>       <th>                     </th>              <td> </td>   \n",
       "</tr>\n",
       "<tr>\n",
       "  <th>Covariance Type:</th>       <td>nonrobust</td>     <th>                     </th>              <td> </td>   \n",
       "</tr>\n",
       "</table>\n",
       "<table class=\"simpletable\">\n",
       "<tr>\n",
       "         <td></td>           <th>coef</th>     <th>std err</th>      <th>t</th>      <th>P>|t|</th>  <th>[0.025</th>    <th>0.975]</th>  \n",
       "</tr>\n",
       "<tr>\n",
       "  <th>birthyear</th>      <td>    0.0002</td> <td> 1.44e-05</td> <td>   14.930</td> <td> 0.000</td> <td>    0.000</td> <td>    0.000</td>\n",
       "</tr>\n",
       "<tr>\n",
       "  <th>wine</th>           <td>   -0.0003</td> <td>  4.2e-05</td> <td>   -6.674</td> <td> 0.000</td> <td>   -0.000</td> <td>   -0.000</td>\n",
       "</tr>\n",
       "<tr>\n",
       "  <th>fruit</th>          <td>   -0.0035</td> <td>    0.000</td> <td>  -11.381</td> <td> 0.000</td> <td>   -0.004</td> <td>   -0.003</td>\n",
       "</tr>\n",
       "<tr>\n",
       "  <th>sweets</th>         <td>    0.0166</td> <td>    0.000</td> <td>   37.819</td> <td> 0.000</td> <td>    0.016</td> <td>    0.017</td>\n",
       "</tr>\n",
       "<tr>\n",
       "  <th>num_web_orders</th> <td>    0.0329</td> <td>    0.005</td> <td>    6.856</td> <td> 0.000</td> <td>    0.023</td> <td>    0.042</td>\n",
       "</tr>\n",
       "</table>\n",
       "<table class=\"simpletable\">\n",
       "<tr>\n",
       "  <th>Omnibus:</th>       <td>151.993</td> <th>  Durbin-Watson:     </th> <td>   1.677</td>\n",
       "</tr>\n",
       "<tr>\n",
       "  <th>Prob(Omnibus):</th> <td> 0.000</td>  <th>  Jarque-Bera (JB):  </th> <td> 190.228</td>\n",
       "</tr>\n",
       "<tr>\n",
       "  <th>Skew:</th>          <td> 0.640</td>  <th>  Prob(JB):          </th> <td>4.93e-42</td>\n",
       "</tr>\n",
       "<tr>\n",
       "  <th>Kurtosis:</th>      <td> 3.661</td>  <th>  Cond. No.          </th> <td>    859.</td>\n",
       "</tr>\n",
       "</table><br/><br/>Notes:<br/>[1] R² is computed without centering (uncentered) since the model does not contain a constant.<br/>[2] Standard Errors assume that the covariance matrix of the errors is correctly specified."
      ],
      "text/plain": [
       "<class 'statsmodels.iolib.summary.Summary'>\n",
       "\"\"\"\n",
       "                                 OLS Regression Results                                \n",
       "=======================================================================================\n",
       "Dep. Variable:     kids_teens_at_home   R-squared (uncentered):                   0.816\n",
       "Model:                            OLS   Adj. R-squared (uncentered):              0.815\n",
       "Method:                 Least Squares   F-statistic:                              1943.\n",
       "Date:                Thu, 10 Nov 2022   Prob (F-statistic):                        0.00\n",
       "Time:                        21:56:46   Log-Likelihood:                         -1687.4\n",
       "No. Observations:                2199   AIC:                                      3385.\n",
       "Df Residuals:                    2194   BIC:                                      3413.\n",
       "Df Model:                           5                                                  \n",
       "Covariance Type:            nonrobust                                                  \n",
       "==================================================================================\n",
       "                     coef    std err          t      P>|t|      [0.025      0.975]\n",
       "----------------------------------------------------------------------------------\n",
       "birthyear          0.0002   1.44e-05     14.930      0.000       0.000       0.000\n",
       "wine              -0.0003    4.2e-05     -6.674      0.000      -0.000      -0.000\n",
       "fruit             -0.0035      0.000    -11.381      0.000      -0.004      -0.003\n",
       "sweets             0.0166      0.000     37.819      0.000       0.016       0.017\n",
       "num_web_orders     0.0329      0.005      6.856      0.000       0.023       0.042\n",
       "==============================================================================\n",
       "Omnibus:                      151.993   Durbin-Watson:                   1.677\n",
       "Prob(Omnibus):                  0.000   Jarque-Bera (JB):              190.228\n",
       "Skew:                           0.640   Prob(JB):                     4.93e-42\n",
       "Kurtosis:                       3.661   Cond. No.                         859.\n",
       "==============================================================================\n",
       "\n",
       "Notes:\n",
       "[1] R² is computed without centering (uncentered) since the model does not contain a constant.\n",
       "[2] Standard Errors assume that the covariance matrix of the errors is correctly specified.\n",
       "\"\"\""
      ]
     },
     "execution_count": 21,
     "metadata": {},
     "output_type": "execute_result"
    }
   ],
   "source": [
    "model.summary()"
   ]
  },
  {
   "cell_type": "markdown",
   "id": "fe11d7f1-7fd3-458e-a7a6-cb99488c4128",
   "metadata": {},
   "source": [
    "## Weights for all columns with p-values under 0.1:"
   ]
  },
  {
   "cell_type": "code",
   "execution_count": 22,
   "id": "ed6a45bd-ba43-4735-a8c6-c3bd6acab441",
   "metadata": {},
   "outputs": [
    {
     "data": {
      "text/plain": [
       "birthyear         0.000215\n",
       "wine             -0.000280\n",
       "fruit            -0.003542\n",
       "sweets            0.016604\n",
       "num_web_orders    0.032860\n",
       "dtype: float64"
      ]
     },
     "execution_count": 22,
     "metadata": {},
     "output_type": "execute_result"
    }
   ],
   "source": [
    "model.params[model.pvalues < 0.1]"
   ]
  },
  {
   "cell_type": "markdown",
   "id": "4edc2849-5243-418b-a62c-8e0f3ff5fad5",
   "metadata": {},
   "source": [
    "## Make predictions using this formula on our same dataset"
   ]
  },
  {
   "cell_type": "code",
   "execution_count": 23,
   "id": "b030324b-4a33-4dd0-bd89-95b6e018bc77",
   "metadata": {},
   "outputs": [],
   "source": [
    "output_predicted_name = output_column + \"_predicted\""
   ]
  },
  {
   "cell_type": "code",
   "execution_count": 24,
   "id": "40f59120",
   "metadata": {},
   "outputs": [],
   "source": [
    "data_cleaned[output_predicted_name] = model.predict(inputs)"
   ]
  },
  {
   "cell_type": "code",
   "execution_count": 25,
   "id": "b6825253-9ead-43d6-8b21-b12797df59c1",
   "metadata": {},
   "outputs": [
    {
     "data": {
      "text/html": [
       "<div>\n",
       "<style scoped>\n",
       "    .dataframe tbody tr th:only-of-type {\n",
       "        vertical-align: middle;\n",
       "    }\n",
       "\n",
       "    .dataframe tbody tr th {\n",
       "        vertical-align: top;\n",
       "    }\n",
       "\n",
       "    .dataframe thead th {\n",
       "        text-align: right;\n",
       "    }\n",
       "</style>\n",
       "<table border=\"1\" class=\"dataframe\">\n",
       "  <thead>\n",
       "    <tr style=\"text-align: right;\">\n",
       "      <th></th>\n",
       "      <th>1383</th>\n",
       "      <th>1338</th>\n",
       "      <th>1914</th>\n",
       "      <th>753</th>\n",
       "      <th>848</th>\n",
       "    </tr>\n",
       "  </thead>\n",
       "  <tbody>\n",
       "    <tr>\n",
       "      <th>birthyear</th>\n",
       "      <td>1971.000000</td>\n",
       "      <td>1969.000000</td>\n",
       "      <td>1979.000000</td>\n",
       "      <td>1970.000000</td>\n",
       "      <td>1972.000000</td>\n",
       "    </tr>\n",
       "    <tr>\n",
       "      <th>wine</th>\n",
       "      <td>637.000000</td>\n",
       "      <td>151.000000</td>\n",
       "      <td>425.000000</td>\n",
       "      <td>110.000000</td>\n",
       "      <td>10.000000</td>\n",
       "    </tr>\n",
       "    <tr>\n",
       "      <th>fruit</th>\n",
       "      <td>47.000000</td>\n",
       "      <td>7.000000</td>\n",
       "      <td>115.000000</td>\n",
       "      <td>0.000000</td>\n",
       "      <td>1.000000</td>\n",
       "    </tr>\n",
       "    <tr>\n",
       "      <th>sweets</th>\n",
       "      <td>35.000000</td>\n",
       "      <td>39.000000</td>\n",
       "      <td>23.000000</td>\n",
       "      <td>29.000000</td>\n",
       "      <td>66.000000</td>\n",
       "    </tr>\n",
       "    <tr>\n",
       "      <th>num_web_orders</th>\n",
       "      <td>6.000000</td>\n",
       "      <td>4.000000</td>\n",
       "      <td>6.000000</td>\n",
       "      <td>2.000000</td>\n",
       "      <td>1.000000</td>\n",
       "    </tr>\n",
       "    <tr>\n",
       "      <th>kids_teens_at_home</th>\n",
       "      <td>1.000000</td>\n",
       "      <td>3.000000</td>\n",
       "      <td>1.000000</td>\n",
       "      <td>1.000000</td>\n",
       "      <td>1.000000</td>\n",
       "    </tr>\n",
       "    <tr>\n",
       "      <th>kids_teens_at_home_predicted</th>\n",
       "      <td>0.857628</td>\n",
       "      <td>1.135699</td>\n",
       "      <td>0.478637</td>\n",
       "      <td>0.940432</td>\n",
       "      <td>1.546819</td>\n",
       "    </tr>\n",
       "  </tbody>\n",
       "</table>\n",
       "</div>"
      ],
      "text/plain": [
       "                                     1383         1338         1914  \\\n",
       "birthyear                     1971.000000  1969.000000  1979.000000   \n",
       "wine                           637.000000   151.000000   425.000000   \n",
       "fruit                           47.000000     7.000000   115.000000   \n",
       "sweets                          35.000000    39.000000    23.000000   \n",
       "num_web_orders                   6.000000     4.000000     6.000000   \n",
       "kids_teens_at_home               1.000000     3.000000     1.000000   \n",
       "kids_teens_at_home_predicted     0.857628     1.135699     0.478637   \n",
       "\n",
       "                                     753          848   \n",
       "birthyear                     1970.000000  1972.000000  \n",
       "wine                           110.000000    10.000000  \n",
       "fruit                            0.000000     1.000000  \n",
       "sweets                          29.000000    66.000000  \n",
       "num_web_orders                   2.000000     1.000000  \n",
       "kids_teens_at_home               1.000000     1.000000  \n",
       "kids_teens_at_home_predicted     0.940432     1.546819  "
      ]
     },
     "execution_count": 25,
     "metadata": {},
     "output_type": "execute_result"
    }
   ],
   "source": [
    "data_cleaned.sample(5).T"
   ]
  },
  {
   "cell_type": "markdown",
   "id": "f800322b-0566-4f42-beb0-20eb75b93899",
   "metadata": {},
   "source": [
    "## Visualize the actual and predicted columns in a scatterplot:"
   ]
  },
  {
   "cell_type": "code",
   "execution_count": 30,
   "id": "897a23e7",
   "metadata": {},
   "outputs": [
    {
     "data": {
      "text/plain": [
       "<AxesSubplot:xlabel='kids_teens_at_home', ylabel='kids_teens_at_home_predicted'>"
      ]
     },
     "execution_count": 30,
     "metadata": {},
     "output_type": "execute_result"
    },
    {
     "data": {
      "image/png": "[encoded data removed]",
      "text/plain": [
       "<Figure size 432x288 with 1 Axes>"
      ]
     },
     "metadata": {
      "needs_background": "light"
     },
     "output_type": "display_data"
    }
   ],
   "source": [
    "sns.scatterplot(data=data_cleaned, x=output_column, y=output_predicted_name, alpha=0.05)"
   ]
  },
  {
   "cell_type": "markdown",
   "id": "2a185f6d-1e55-419b-beca-58fc28f06151",
   "metadata": {},
   "source": [
    "## Save to excel file"
   ]
  },
  {
   "cell_type": "code",
   "execution_count": null,
   "id": "f8020b89-df8a-48b8-9d84-63e0292f1eee",
   "metadata": {},
   "outputs": [],
   "source": [
    "data_cleaned.to_excel(\"supermarket_predictions.xlsx\")"
   ]
  },
  {
   "cell_type": "code",
   "execution_count": null,
   "id": "6e0cb347-353a-4904-8682-1ca58415b8f0",
   "metadata": {},
   "outputs": [],
   "source": []
  }
 ],
 "metadata": {
  "kernelspec": {
   "display_name": "Python 3 (clean)",
   "language": "python",
   "name": "python3_clean"
  },
  "language_info": {
   "codemirror_mode": {
    "name": "ipython",
    "version": 3
   },
   "file_extension": ".py",
   "mimetype": "text/x-python",
   "name": "python",
   "nbconvert_exporter": "python",
   "pygments_lexer": "ipython3",
   "version": "3.9.5"
  }
 },
 "nbformat": 4,
 "nbformat_minor": 5
}
