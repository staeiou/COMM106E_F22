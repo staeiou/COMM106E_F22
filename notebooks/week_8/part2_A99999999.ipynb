{
 "cells": [
  {
   "cell_type": "code",
   "execution_count": 11,
   "id": "0cb0294d-ff24-4970-a125-9d29584fdc95",
   "metadata": {},
   "outputs": [],
   "source": [
    "import pandas as pd\n",
    "import glob\n",
    "import numpy as np"
   ]
  },
  {
   "cell_type": "code",
   "execution_count": 12,
   "id": "90d18dc0-c930-46f2-8c42-206f0613ade0",
   "metadata": {},
   "outputs": [],
   "source": [
    "import matplotlib.pyplot as plt "
   ]
  },
  {
   "cell_type": "markdown",
   "id": "d2f78df7-b5ea-4184-8923-b6346b0c1bd8",
   "metadata": {},
   "source": [
    "## Combining multiple data files (which all must have the same columns)\n",
    "\n",
    "We can use `glob` to select all files in the data directory. Here the `*` character stands for 'match anything' (and not multiplication, as it is used elsewhere). This line says to get all the files ending in `.csv` that are in any subdirectory of `data/`. "
   ]
  },
  {
   "cell_type": "code",
   "execution_count": 13,
   "id": "986a95b1-ba73-43c5-b612-b41cc8e4ef42",
   "metadata": {},
   "outputs": [],
   "source": [
    "data_files = glob.glob(\"data/2021/*.csv\")"
   ]
  },
  {
   "cell_type": "markdown",
   "id": "d6d0b93c-ea3e-4fc1-9c73-122718b85587",
   "metadata": {},
   "source": [
    "## Combining the files together"
   ]
  },
  {
   "cell_type": "code",
   "execution_count": 14,
   "id": "1fd4ab02-f703-42eb-b1c2-837528b0af4c",
   "metadata": {},
   "outputs": [],
   "source": [
    "all_files = []\n",
    "for file in data_files:\n",
    "    data_temp = pd.read_csv(file)\n",
    "    all_files.append(data_temp)"
   ]
  },
  {
   "cell_type": "code",
   "execution_count": 15,
   "id": "d1edfb12-3654-4896-86d6-2dab94f7db07",
   "metadata": {},
   "outputs": [],
   "source": [
    "data = pd.concat(all_files)"
   ]
  },
  {
   "cell_type": "markdown",
   "id": "ccbba01b-5fae-4123-b0cb-5270911dcff4",
   "metadata": {},
   "source": [
    "We also want to rename those columns into things that remove the newlines (or `\\n`)"
   ]
  },
  {
   "cell_type": "code",
   "execution_count": 16,
   "id": "3971cf2f-9fe7-4e9b-84a2-f0d542499f9a",
   "metadata": {},
   "outputs": [],
   "source": [
    "data.columns = ['year', 'location', 'first_name', 'last_name', 'title', 'total_pay', 'regular_pay', 'overtime_pay', 'other_pay']"
   ]
  },
  {
   "cell_type": "markdown",
   "id": "123384f8-f3fb-4cf5-a867-df17322647d7",
   "metadata": {},
   "source": [
    "## Counting the number of workers in each location:\n",
    "We will do a `groupby` with the location column. After the groupby function, you should usually specify which column you want to work with. We want to count the number of workers in each location, so it doesn't matter which column you want to work with here. It will matter when we do mean, median, or total salary later, we have to specify which salary column we want to use."
   ]
  },
  {
   "cell_type": "markdown",
   "id": "4ef28f68-98ff-482e-b4b1-af700f44fb70",
   "metadata": {},
   "source": [
    "We can sort the list smallest to largest:"
   ]
  },
  {
   "cell_type": "markdown",
   "id": "cb5823c9-7b28-4771-b5bb-3d8df8882361",
   "metadata": {},
   "source": [
    "We can visualize a horizontal bar graph by adding `.plot(kind='barh')` to the sorted table:"
   ]
  },
  {
   "cell_type": "code",
   "execution_count": 17,
   "id": "5ced0c22-555a-443f-8623-3ef8c37adf07",
   "metadata": {},
   "outputs": [
    {
     "data": {
      "text/plain": [
       "<AxesSubplot:ylabel='location'>"
      ]
     },
     "execution_count": 17,
     "metadata": {},
     "output_type": "execute_result"
    },
    {
     "data": {
      "image/png": "[encoded data removed]",
      "text/plain": [
       "<Figure size 432x288 with 1 Axes>"
      ]
     },
     "metadata": {
      "needs_background": "light"
     },
     "output_type": "display_data"
    }
   ],
   "source": [
    "data.groupby('location')['year'].count().sort_values().plot(kind='barh')"
   ]
  },
  {
   "cell_type": "markdown",
   "id": "71a0bc31-842c-4f92-9871-bae0e7a274d7",
   "metadata": {},
   "source": [
    "# Cleaning data\n",
    "## Classifying titles\n",
    "One problem is that there are many different specialized titles, and the payroll system doesn't make it easy to tell them apart. At UCSD we have [this site](http://hr.ucsd.edu/tpp/) which you can use to lookup payroll titles and see a description.\n",
    "\n",
    "We will create a new function to classify these:"
   ]
  },
  {
   "cell_type": "code",
   "execution_count": 18,
   "id": "3f5d1c49-bc90-469d-9325-c7a41ee0756e",
   "metadata": {},
   "outputs": [],
   "source": [
    "def classify_title(text):\n",
    "    text = str(text).upper()\n",
    "    \n",
    "    if \"POSTDOC\" in text:\n",
    "        return \"POSTDOC\"\n",
    "    elif \"GSHIP\" in text or \"GSR\" in text:\n",
    "        return \"GRAD\"\n",
    "    elif \"LECT\" in text or \"TEACHER\" in text:\n",
    "        return \"LECTURER\"\n",
    "    elif \"DEAN\" in text and \"ASST\" not in text and \"AST\" not in text:\n",
    "        return \"EXEC\"\n",
    "    elif \"VC\" in text and \"ASST\" not in text and \"AST\" not in text and 'SVC' not in text:\n",
    "        return \"EXEC\"\n",
    "    elif \"CHAN\" in text and \"ASST\" not in text and \"AST\" not in text:\n",
    "        return \"EXEC\"\n",
    "    elif \"CMO MED CTR\" in text:\n",
    "        return \"EXEC\"\n",
    "    elif \"PROF\" in text:\n",
    "        return \"PROF\"\n",
    "    elif \"STDT\" in text or \"MGR\" in text or \"AST\" in text or \"SRA\" in text or \"ADMIN\" in text or \"SPEC\" in text or \"HR\" in text or \"ANL\" in text:\n",
    "        return \"ADMIN\"\n",
    "    elif \"NURSE\" in text or \"PHYS\" in text or \"PAT\" in text or \"MED C\" in text or \"CLIN\" in text or \"PHARM\" in text:\n",
    "        return \"MEDICAL-OTHER\"\n",
    "    else:\n",
    "        return \"UNKNOWN\""
   ]
  },
  {
   "cell_type": "markdown",
   "id": "5aefaad5-caf2-4914-a3f5-2b88d1ee6b20",
   "metadata": {},
   "source": [
    "### Using `apply` to classify all titles in the dataset"
   ]
  },
  {
   "cell_type": "markdown",
   "id": "81f0ca34-ac3c-4f1f-a4ea-ee4101a87a3f",
   "metadata": {},
   "source": [
    "We want to create a new column called `title_class`. This is where we will save the results of applying that function to the `title` column in our original dataset:"
   ]
  },
  {
   "cell_type": "code",
   "execution_count": 23,
   "id": "b51a31c8-71b8-4d7f-93e5-39c19a095554",
   "metadata": {},
   "outputs": [
    {
     "data": {
      "text/html": [
       "<div>\n",
       "<style scoped>\n",
       "    .dataframe tbody tr th:only-of-type {\n",
       "        vertical-align: middle;\n",
       "    }\n",
       "\n",
       "    .dataframe tbody tr th {\n",
       "        vertical-align: top;\n",
       "    }\n",
       "\n",
       "    .dataframe thead th {\n",
       "        text-align: right;\n",
       "    }\n",
       "</style>\n",
       "<table border=\"1\" class=\"dataframe\">\n",
       "  <thead>\n",
       "    <tr style=\"text-align: right;\">\n",
       "      <th></th>\n",
       "      <th>year</th>\n",
       "      <th>location</th>\n",
       "      <th>first_name</th>\n",
       "      <th>last_name</th>\n",
       "      <th>title</th>\n",
       "      <th>total_pay</th>\n",
       "      <th>regular_pay</th>\n",
       "      <th>overtime_pay</th>\n",
       "      <th>other_pay</th>\n",
       "      <th>title_class</th>\n",
       "    </tr>\n",
       "  </thead>\n",
       "  <tbody>\n",
       "    <tr>\n",
       "      <th>0</th>\n",
       "      <td>2021</td>\n",
       "      <td>Davis</td>\n",
       "      <td>*****</td>\n",
       "      <td>*****</td>\n",
       "      <td>POSTDOC-EMPLOYEE</td>\n",
       "      <td>76125.0</td>\n",
       "      <td>76125.0</td>\n",
       "      <td>0.0</td>\n",
       "      <td>0.0</td>\n",
       "      <td>POSTDOC</td>\n",
       "    </tr>\n",
       "    <tr>\n",
       "      <th>1</th>\n",
       "      <td>2021</td>\n",
       "      <td>Davis</td>\n",
       "      <td>*****</td>\n",
       "      <td>*****</td>\n",
       "      <td>GSR-FULL FEE REM</td>\n",
       "      <td>19440.0</td>\n",
       "      <td>19440.0</td>\n",
       "      <td>0.0</td>\n",
       "      <td>0.0</td>\n",
       "      <td>GRAD</td>\n",
       "    </tr>\n",
       "    <tr>\n",
       "      <th>2</th>\n",
       "      <td>2021</td>\n",
       "      <td>Davis</td>\n",
       "      <td>*****</td>\n",
       "      <td>*****</td>\n",
       "      <td>STDT 4</td>\n",
       "      <td>1110.0</td>\n",
       "      <td>1110.0</td>\n",
       "      <td>0.0</td>\n",
       "      <td>0.0</td>\n",
       "      <td>ADMIN</td>\n",
       "    </tr>\n",
       "    <tr>\n",
       "      <th>3</th>\n",
       "      <td>2021</td>\n",
       "      <td>Davis</td>\n",
       "      <td>*****</td>\n",
       "      <td>*****</td>\n",
       "      <td>GSR-FULL FEE REM</td>\n",
       "      <td>7539.0</td>\n",
       "      <td>7539.0</td>\n",
       "      <td>0.0</td>\n",
       "      <td>0.0</td>\n",
       "      <td>GRAD</td>\n",
       "    </tr>\n",
       "    <tr>\n",
       "      <th>4</th>\n",
       "      <td>2021</td>\n",
       "      <td>Davis</td>\n",
       "      <td>*****</td>\n",
       "      <td>*****</td>\n",
       "      <td>GSR-FULL FEE REM</td>\n",
       "      <td>33365.0</td>\n",
       "      <td>33365.0</td>\n",
       "      <td>0.0</td>\n",
       "      <td>0.0</td>\n",
       "      <td>GRAD</td>\n",
       "    </tr>\n",
       "    <tr>\n",
       "      <th>...</th>\n",
       "      <td>...</td>\n",
       "      <td>...</td>\n",
       "      <td>...</td>\n",
       "      <td>...</td>\n",
       "      <td>...</td>\n",
       "      <td>...</td>\n",
       "      <td>...</td>\n",
       "      <td>...</td>\n",
       "      <td>...</td>\n",
       "      <td>...</td>\n",
       "    </tr>\n",
       "    <tr>\n",
       "      <th>11349</th>\n",
       "      <td>2021</td>\n",
       "      <td>Santa Cruz</td>\n",
       "      <td>AMY</td>\n",
       "      <td>ZUROEVESTE</td>\n",
       "      <td>BLANK AST 3</td>\n",
       "      <td>50745.0</td>\n",
       "      <td>50445.0</td>\n",
       "      <td>0.0</td>\n",
       "      <td>300.0</td>\n",
       "      <td>ADMIN</td>\n",
       "    </tr>\n",
       "    <tr>\n",
       "      <th>11350</th>\n",
       "      <td>2021</td>\n",
       "      <td>Santa Cruz</td>\n",
       "      <td>THOMAS</td>\n",
       "      <td>ZUUR</td>\n",
       "      <td>AUTO EQUIP OPR SR</td>\n",
       "      <td>39810.0</td>\n",
       "      <td>38134.0</td>\n",
       "      <td>458.0</td>\n",
       "      <td>1217.0</td>\n",
       "      <td>UNKNOWN</td>\n",
       "    </tr>\n",
       "    <tr>\n",
       "      <th>11351</th>\n",
       "      <td>2021</td>\n",
       "      <td>Santa Cruz</td>\n",
       "      <td>ANN</td>\n",
       "      <td>ZWEIG</td>\n",
       "      <td>BIOINFORMATICS MGR 1</td>\n",
       "      <td>135039.0</td>\n",
       "      <td>134439.0</td>\n",
       "      <td>0.0</td>\n",
       "      <td>600.0</td>\n",
       "      <td>ADMIN</td>\n",
       "    </tr>\n",
       "    <tr>\n",
       "      <th>11352</th>\n",
       "      <td>2021</td>\n",
       "      <td>Santa Cruz</td>\n",
       "      <td>JUAN</td>\n",
       "      <td>ZWOLINSKI</td>\n",
       "      <td>ASSOC RES-FY-NON REP</td>\n",
       "      <td>113925.0</td>\n",
       "      <td>113925.0</td>\n",
       "      <td>0.0</td>\n",
       "      <td>0.0</td>\n",
       "      <td>UNKNOWN</td>\n",
       "    </tr>\n",
       "    <tr>\n",
       "      <th>11353</th>\n",
       "      <td>2021</td>\n",
       "      <td>Santa Cruz</td>\n",
       "      <td>EVE</td>\n",
       "      <td>ZYZIK</td>\n",
       "      <td>PROF-AY</td>\n",
       "      <td>147117.0</td>\n",
       "      <td>147117.0</td>\n",
       "      <td>0.0</td>\n",
       "      <td>0.0</td>\n",
       "      <td>PROF</td>\n",
       "    </tr>\n",
       "  </tbody>\n",
       "</table>\n",
       "<p>288376 rows × 10 columns</p>\n",
       "</div>"
      ],
      "text/plain": [
       "       year    location first_name   last_name                 title  \\\n",
       "0      2021       Davis      *****       *****      POSTDOC-EMPLOYEE   \n",
       "1      2021       Davis      *****       *****      GSR-FULL FEE REM   \n",
       "2      2021       Davis      *****       *****                STDT 4   \n",
       "3      2021       Davis      *****       *****      GSR-FULL FEE REM   \n",
       "4      2021       Davis      *****       *****      GSR-FULL FEE REM   \n",
       "...     ...         ...        ...         ...                   ...   \n",
       "11349  2021  Santa Cruz        AMY  ZUROEVESTE           BLANK AST 3   \n",
       "11350  2021  Santa Cruz     THOMAS        ZUUR     AUTO EQUIP OPR SR   \n",
       "11351  2021  Santa Cruz        ANN       ZWEIG  BIOINFORMATICS MGR 1   \n",
       "11352  2021  Santa Cruz       JUAN   ZWOLINSKI  ASSOC RES-FY-NON REP   \n",
       "11353  2021  Santa Cruz        EVE       ZYZIK               PROF-AY   \n",
       "\n",
       "       total_pay  regular_pay  overtime_pay  other_pay title_class  \n",
       "0        76125.0      76125.0           0.0        0.0     POSTDOC  \n",
       "1        19440.0      19440.0           0.0        0.0        GRAD  \n",
       "2         1110.0       1110.0           0.0        0.0       ADMIN  \n",
       "3         7539.0       7539.0           0.0        0.0        GRAD  \n",
       "4        33365.0      33365.0           0.0        0.0        GRAD  \n",
       "...          ...          ...           ...        ...         ...  \n",
       "11349    50745.0      50445.0           0.0      300.0       ADMIN  \n",
       "11350    39810.0      38134.0         458.0     1217.0     UNKNOWN  \n",
       "11351   135039.0     134439.0           0.0      600.0       ADMIN  \n",
       "11352   113925.0     113925.0           0.0        0.0     UNKNOWN  \n",
       "11353   147117.0     147117.0           0.0        0.0        PROF  \n",
       "\n",
       "[288376 rows x 10 columns]"
      ]
     },
     "execution_count": 23,
     "metadata": {},
     "output_type": "execute_result"
    }
   ],
   "source": [
    "data['title_class'] = data['title'].apply(classify_title)\n",
    "data"
   ]
  },
  {
   "cell_type": "markdown",
   "id": "64c6c4f2-7662-4a20-9da0-65303a35a466",
   "metadata": {},
   "source": [
    "## Removing those whose total pay for a year is less than $15,000\n",
    "\n",
    "Data cleaning is full of political and value choices!\n"
   ]
  },
  {
   "cell_type": "code",
   "execution_count": 24,
   "id": "f31edfb1-8f18-4bf6-8d06-7633bfe42097",
   "metadata": {},
   "outputs": [],
   "source": [
    "data_cleaned = data.query(\"total_pay > 15000\")"
   ]
  },
  {
   "cell_type": "code",
   "execution_count": 25,
   "id": "28239b4c-5066-4042-8369-6bc504df3ef6",
   "metadata": {},
   "outputs": [
    {
     "data": {
      "text/plain": [
       "ADMIN            59542\n",
       "UNKNOWN          41199\n",
       "MEDICAL-OTHER    36915\n",
       "PROF             20305\n",
       "GRAD             20211\n",
       "POSTDOC           6295\n",
       "LECTURER          5008\n",
       "EXEC               265\n",
       "Name: title_class, dtype: int64"
      ]
     },
     "execution_count": 25,
     "metadata": {},
     "output_type": "execute_result"
    }
   ],
   "source": [
    "data_cleaned['title_class'].value_counts()"
   ]
  },
  {
   "cell_type": "markdown",
   "id": "e070e337-2024-4a8b-a116-825cc326d2e7",
   "metadata": {},
   "source": [
    "We are also going to save a version of the 2021 dataset that is not filtered out, because later we will look at the total money spent on the system:"
   ]
  },
  {
   "cell_type": "markdown",
   "id": "b55960cd-952f-4a7f-98f2-84b29c75f357",
   "metadata": {},
   "source": [
    "## Pivot tables\n",
    "\n",
    "For a pivot table, you give it a dataset and tell it what a summarized table should look like. You specify the rows (or index), the columns, the values, and how you want to summarize the data. So we want our rows/index to be the title_class, the columns to be the location, and the values to be total_pay. You should also specify the `aggfunc` or aggregation function: should it give you the mean (average), median, sum (total) of all of those values?"
   ]
  },
  {
   "cell_type": "code",
   "execution_count": null,
   "id": "07b4d87d-e5ed-4c06-8d07-293fd7d28af1",
   "metadata": {},
   "outputs": [],
   "source": [
    "pivot_median_total_by_loc = pd.pivot_table(data_cleaned, index='title_class', columns='location', values='total_pay', aggfunc='median')\n",
    "pivot_median_total_by_loc"
   ]
  },
  {
   "cell_type": "code",
   "execution_count": null,
   "id": "0422468b-25fa-4142-a8af-0ba13e767a37",
   "metadata": {},
   "outputs": [],
   "source": [
    "median_grad_stipend = pivot_median_total_by_loc.query(\"title_class=='GRAD'\").T.dropna()\n",
    "median_grad_stipend.columns = ['median_salary']"
   ]
  },
  {
   "cell_type": "code",
   "execution_count": null,
   "id": "3e7b6d13-617c-4c5e-a2b8-328eae4e1b08",
   "metadata": {},
   "outputs": [],
   "source": [
    "median_grad_stipend"
   ]
  },
  {
   "cell_type": "markdown",
   "id": "1d3346f6-9ab4-4c8b-a9e5-e3de9d7732ed",
   "metadata": {},
   "source": [
    "## __For lab: make a copy of [this Google Sheet](https://docs.google.com/spreadsheets/d/1_414HaUoE2rqReIYNFrR3r6N3-pwzVkDPt85N3GHuCU/edit#gid=484715097), add what you think you might be able to pay for rent in these cities, download as excel file, and upload to the data folder in week_8__\n",
    "\n",
    "## Be sure to _NOT_ enter your values with commas, enter just numbers like the Berkeley example"
   ]
  },
  {
   "cell_type": "code",
   "execution_count": null,
   "id": "64e2d474-7ea6-4731-8def-ef3bda9ff0b3",
   "metadata": {},
   "outputs": [],
   "source": [
    "rents = pd.read_excel(\"data/rent.xlsx\")\n",
    "rents"
   ]
  },
  {
   "cell_type": "code",
   "execution_count": null,
   "id": "6ebdacf0-224b-4ca6-ac10-d7e902707a32",
   "metadata": {},
   "outputs": [],
   "source": [
    "merged_data = pd.merge(left=median_grad_stipend, right=rents, on='location', how='inner')\n",
    "merged_data"
   ]
  },
  {
   "cell_type": "code",
   "execution_count": null,
   "id": "7965162f-0961-4810-9434-d3f6f0e78a02",
   "metadata": {},
   "outputs": [],
   "source": [
    "merged_data['annual_rent'] = merged_data['monthly_rent'] * 12\n",
    "merged_data"
   ]
  },
  {
   "cell_type": "code",
   "execution_count": null,
   "id": "908eb197-0c6b-4395-bb1d-cf2b28348f73",
   "metadata": {},
   "outputs": [],
   "source": [
    "merged_data['rent_burden'] = (merged_data['annual_rent']/merged_data['median_salary']) * 100"
   ]
  },
  {
   "cell_type": "code",
   "execution_count": null,
   "id": "58c0c064-96a4-4da1-b7c4-e10f065181ba",
   "metadata": {},
   "outputs": [],
   "source": [
    "merged_data.index = merged_data.location"
   ]
  },
  {
   "cell_type": "code",
   "execution_count": null,
   "id": "350ce09d-80f1-45b8-8ec5-bc1b2f93decb",
   "metadata": {},
   "outputs": [],
   "source": [
    "merged_data['rent_burden'].plot(kind='bar', figsize=(6,4), ylabel=\"Percent of income spent on rent\")\n",
    "plt.savefig('rent_burden.png', bbox_inches='tight')"
   ]
  }
 ],
 "metadata": {
  "kernelspec": {
   "display_name": "Python 3 (ipykernel)",
   "language": "python",
   "name": "python3"
  },
  "language_info": {
   "codemirror_mode": {
    "name": "ipython",
    "version": 3
   },
   "file_extension": ".py",
   "mimetype": "text/x-python",
   "name": "python",
   "nbconvert_exporter": "python",
   "pygments_lexer": "ipython3",
   "version": "3.9.5"
  }
 },
 "nbformat": 4,
 "nbformat_minor": 5
}
