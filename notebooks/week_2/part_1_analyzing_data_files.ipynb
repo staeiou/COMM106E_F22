{
 "cells": [
  {
   "cell_type": "markdown",
   "id": "fb313152-e1f9-4a7e-a7da-67ccac528999",
   "metadata": {},
   "source": [
    "# Working with data from a survey"
   ]
  },
  {
   "cell_type": "markdown",
   "id": "760a2530-d029-4908-88b6-67d0b2ad2fa1",
   "metadata": {},
   "source": [
    "We are going to use a library called `pandas`, which is created and given away for free by a big group of people led by Wes McKinney. Wes did a lot of the work on the library while working at AQR Capital, a hedge fund investment firm, and convinced them to let him give away the code.\n",
    "\n",
    "There is also a library called `openpyxl` that `pandas` uses to read Excel files, written and given away for free by software development consultants Eric Gazoni and Charlie Clark."
   ]
  },
  {
   "cell_type": "code",
   "execution_count": 1,
   "id": "8b4b0a3d-4f32-49fa-ad70-783e5fdcdb4a",
   "metadata": {},
   "outputs": [
    {
     "name": "stdout",
     "output_type": "stream",
     "text": [
      "Defaulting to user installation because normal site-packages is not writeable\n",
      "Requirement already satisfied: pandas in /opt/conda/lib/python3.9/site-packages (1.4.3)\n",
      "Requirement already satisfied: openpyxl in /home/sgeiger/.local/lib/python3.9/site-packages (3.0.10)\n",
      "Requirement already satisfied: pytz>=2020.1 in /opt/conda/lib/python3.9/site-packages (from pandas) (2021.1)\n",
      "Requirement already satisfied: numpy>=1.18.5 in /opt/conda/lib/python3.9/site-packages (from pandas) (1.21.1)\n",
      "Requirement already satisfied: python-dateutil>=2.8.1 in /opt/conda/lib/python3.9/site-packages (from pandas) (2.8.2)\n",
      "Requirement already satisfied: six>=1.5 in /opt/conda/lib/python3.9/site-packages (from python-dateutil>=2.8.1->pandas) (1.16.0)\n",
      "Requirement already satisfied: et-xmlfile in /home/sgeiger/.local/lib/python3.9/site-packages (from openpyxl) (1.1.0)\n"
     ]
    }
   ],
   "source": [
    "!pip install pandas openpyxl"
   ]
  },
  {
   "cell_type": "markdown",
   "id": "6c8546a7-b4ab-4af7-be9d-6269bd6952df",
   "metadata": {},
   "source": [
    "### Import library\n",
    "\n",
    "For short, we abbreviate `pandas` as `pd`:"
   ]
  },
  {
   "cell_type": "code",
   "execution_count": 2,
   "id": "3ead4468-6eb2-4bce-8316-fef72c3925d1",
   "metadata": {},
   "outputs": [],
   "source": [
    "import pandas as pd"
   ]
  },
  {
   "cell_type": "markdown",
   "id": "5323aa28-5274-4119-b76a-8363fa6f658d",
   "metadata": {},
   "source": [
    "### Reading data"
   ]
  },
  {
   "cell_type": "markdown",
   "id": "1f108f36-07ef-4702-b49a-554965116193",
   "metadata": {},
   "source": [
    "Pandas lets us read data files, which can be in a lot of different file formats. Once we upload the file to this folder, we can have the computer read it, and store a copy in our notebook's memory as `datafile`.\n",
    "\n",
    "This datafile is a variable, just like `my_name` from last week. But it contains a lot of data. We can see a preview if we put the variable name as the last line in a code cell:\n",
    "\n",
    "__For lab: replace the filename in quotes below with the one you uploaded__"
   ]
  },
  {
   "cell_type": "code",
   "execution_count": 3,
   "id": "3e21f7ec-4254-416f-9e43-b3b15b484142",
   "metadata": {},
   "outputs": [
    {
     "data": {
      "text/html": [
       "<div>\n",
       "<style scoped>\n",
       "    .dataframe tbody tr th:only-of-type {\n",
       "        vertical-align: middle;\n",
       "    }\n",
       "\n",
       "    .dataframe tbody tr th {\n",
       "        vertical-align: top;\n",
       "    }\n",
       "\n",
       "    .dataframe thead th {\n",
       "        text-align: right;\n",
       "    }\n",
       "</style>\n",
       "<table border=\"1\" class=\"dataframe\">\n",
       "  <thead>\n",
       "    <tr style=\"text-align: right;\">\n",
       "      <th></th>\n",
       "      <th>Age</th>\n",
       "      <th>Ethnicity1</th>\n",
       "      <th>Ethnicity2</th>\n",
       "      <th>Education</th>\n",
       "    </tr>\n",
       "  </thead>\n",
       "  <tbody>\n",
       "    <tr>\n",
       "      <th>0</th>\n",
       "      <td>What is your age?</td>\n",
       "      <td>Are you of Hispanic, Latino, or Spanish origin?</td>\n",
       "      <td>How would you describe yourself? Please select...</td>\n",
       "      <td>What is the highest degree or level of school ...</td>\n",
       "    </tr>\n",
       "    <tr>\n",
       "      <th>1</th>\n",
       "      <td>{\"ImportId\":\"QID2\"}</td>\n",
       "      <td>{\"ImportId\":\"QID3\"}</td>\n",
       "      <td>{\"ImportId\":\"QID4\"}</td>\n",
       "      <td>{\"ImportId\":\"QID5\"}</td>\n",
       "    </tr>\n",
       "    <tr>\n",
       "      <th>2</th>\n",
       "      <td>18 - 24</td>\n",
       "      <td>No</td>\n",
       "      <td>White</td>\n",
       "      <td>Doctorate or professional degree (e.g. MD, DDS...</td>\n",
       "    </tr>\n",
       "    <tr>\n",
       "      <th>3</th>\n",
       "      <td>Under 18</td>\n",
       "      <td>No</td>\n",
       "      <td>White</td>\n",
       "      <td>Doctorate or professional degree (e.g. MD, DDS...</td>\n",
       "    </tr>\n",
       "    <tr>\n",
       "      <th>4</th>\n",
       "      <td>35 - 44</td>\n",
       "      <td>Yes</td>\n",
       "      <td>White</td>\n",
       "      <td>Some college, no degree</td>\n",
       "    </tr>\n",
       "    <tr>\n",
       "      <th>5</th>\n",
       "      <td>18 - 24</td>\n",
       "      <td>Yes</td>\n",
       "      <td>Other</td>\n",
       "      <td>Bachelor's degree (e.g. BA, BS)</td>\n",
       "    </tr>\n",
       "    <tr>\n",
       "      <th>6</th>\n",
       "      <td>18 - 24</td>\n",
       "      <td>Yes</td>\n",
       "      <td>Other</td>\n",
       "      <td>High school degree or equivalent (e.g. GED)</td>\n",
       "    </tr>\n",
       "    <tr>\n",
       "      <th>7</th>\n",
       "      <td>18 - 24</td>\n",
       "      <td>No</td>\n",
       "      <td>White</td>\n",
       "      <td>High school degree or equivalent (e.g. GED)</td>\n",
       "    </tr>\n",
       "    <tr>\n",
       "      <th>8</th>\n",
       "      <td>25 - 34</td>\n",
       "      <td>No</td>\n",
       "      <td>White</td>\n",
       "      <td>High school degree or equivalent (e.g. GED)</td>\n",
       "    </tr>\n",
       "    <tr>\n",
       "      <th>9</th>\n",
       "      <td>25 - 34</td>\n",
       "      <td>No</td>\n",
       "      <td>Black or African American</td>\n",
       "      <td>High school degree or equivalent (e.g. GED)</td>\n",
       "    </tr>\n",
       "  </tbody>\n",
       "</table>\n",
       "</div>"
      ],
      "text/plain": [
       "                   Age                                       Ethnicity1  \\\n",
       "0    What is your age?  Are you of Hispanic, Latino, or Spanish origin?   \n",
       "1  {\"ImportId\":\"QID2\"}                              {\"ImportId\":\"QID3\"}   \n",
       "2              18 - 24                                               No   \n",
       "3             Under 18                                               No   \n",
       "4              35 - 44                                              Yes   \n",
       "5              18 - 24                                              Yes   \n",
       "6              18 - 24                                              Yes   \n",
       "7              18 - 24                                               No   \n",
       "8              25 - 34                                               No   \n",
       "9              25 - 34                                               No   \n",
       "\n",
       "                                          Ethnicity2  \\\n",
       "0  How would you describe yourself? Please select...   \n",
       "1                                {\"ImportId\":\"QID4\"}   \n",
       "2                                              White   \n",
       "3                                              White   \n",
       "4                                              White   \n",
       "5                                              Other   \n",
       "6                                              Other   \n",
       "7                                              White   \n",
       "8                                              White   \n",
       "9                          Black or African American   \n",
       "\n",
       "                                           Education  \n",
       "0  What is the highest degree or level of school ...  \n",
       "1                                {\"ImportId\":\"QID5\"}  \n",
       "2  Doctorate or professional degree (e.g. MD, DDS...  \n",
       "3  Doctorate or professional degree (e.g. MD, DDS...  \n",
       "4                            Some college, no degree  \n",
       "5                    Bachelor's degree (e.g. BA, BS)  \n",
       "6        High school degree or equivalent (e.g. GED)  \n",
       "7        High school degree or equivalent (e.g. GED)  \n",
       "8        High school degree or equivalent (e.g. GED)  \n",
       "9        High school degree or equivalent (e.g. GED)  "
      ]
     },
     "execution_count": 3,
     "metadata": {},
     "output_type": "execute_result"
    }
   ],
   "source": [
    "datafile = pd.read_csv(\"COMM106E_test_survey.csv\")\n",
    "datafile"
   ]
  },
  {
   "cell_type": "markdown",
   "id": "80dff9b5-93d4-4d4d-ab31-b7164a05f64d",
   "metadata": {},
   "source": [
    "### Selecting rows (or __slicing__)\n",
    "\n",
    "Normally in a data file, the first row is the __header__, containing the name of each column. Qualtrics gives us three different headers:\n",
    "\n",
    "0. The short version of the question name (e.g. \"Age)\n",
    "1. The question text displayed to users (e.g. \"What is your age?\")\n",
    "2. A Qualtrics-specific question id, in its own format (e.g. {\"ImportId\":\"QID2\"})\n",
    "\n",
    "We only need one header, and the one in row 0 is the best for our purposes. So we want to select all the rows __after__ the first two rows. This is called a __slice__, like a slice of pizza or cake.\n",
    "\n",
    "In any pandas dataframe, you can use square brackets to select a range of rows. If you want rows 4 to 6, you actually do:"
   ]
  },
  {
   "cell_type": "code",
   "execution_count": 4,
   "id": "1005b164-ac41-4bd3-be1c-e2464d0c4a30",
   "metadata": {},
   "outputs": [
    {
     "data": {
      "text/html": [
       "<div>\n",
       "<style scoped>\n",
       "    .dataframe tbody tr th:only-of-type {\n",
       "        vertical-align: middle;\n",
       "    }\n",
       "\n",
       "    .dataframe tbody tr th {\n",
       "        vertical-align: top;\n",
       "    }\n",
       "\n",
       "    .dataframe thead th {\n",
       "        text-align: right;\n",
       "    }\n",
       "</style>\n",
       "<table border=\"1\" class=\"dataframe\">\n",
       "  <thead>\n",
       "    <tr style=\"text-align: right;\">\n",
       "      <th></th>\n",
       "      <th>Age</th>\n",
       "      <th>Ethnicity1</th>\n",
       "      <th>Ethnicity2</th>\n",
       "      <th>Education</th>\n",
       "    </tr>\n",
       "  </thead>\n",
       "  <tbody>\n",
       "    <tr>\n",
       "      <th>4</th>\n",
       "      <td>35 - 44</td>\n",
       "      <td>Yes</td>\n",
       "      <td>White</td>\n",
       "      <td>Some college, no degree</td>\n",
       "    </tr>\n",
       "    <tr>\n",
       "      <th>5</th>\n",
       "      <td>18 - 24</td>\n",
       "      <td>Yes</td>\n",
       "      <td>Other</td>\n",
       "      <td>Bachelor's degree (e.g. BA, BS)</td>\n",
       "    </tr>\n",
       "    <tr>\n",
       "      <th>6</th>\n",
       "      <td>18 - 24</td>\n",
       "      <td>Yes</td>\n",
       "      <td>Other</td>\n",
       "      <td>High school degree or equivalent (e.g. GED)</td>\n",
       "    </tr>\n",
       "  </tbody>\n",
       "</table>\n",
       "</div>"
      ],
      "text/plain": [
       "       Age Ethnicity1 Ethnicity2                                    Education\n",
       "4  35 - 44        Yes      White                      Some college, no degree\n",
       "5  18 - 24        Yes      Other              Bachelor's degree (e.g. BA, BS)\n",
       "6  18 - 24        Yes      Other  High school degree or equivalent (e.g. GED)"
      ]
     },
     "execution_count": 4,
     "metadata": {},
     "output_type": "execute_result"
    }
   ],
   "source": [
    "datafile[4:7]"
   ]
  },
  {
   "cell_type": "markdown",
   "id": "3579b88c-3096-46a1-91dc-1296968dcb7f",
   "metadata": {},
   "source": [
    "This is a bit confusing, which is why I like Jupyter notebooks. You can see what a slice looks like, and re-do it if you want.\n",
    "\n",
    "You can leave the number after the `:` blank in order to slice to the end. If we only want to select the rows starting at row 2 and going to the end, we use:"
   ]
  },
  {
   "cell_type": "code",
   "execution_count": 5,
   "id": "0be2684b-88a0-4377-963f-9bcdd717dbaf",
   "metadata": {},
   "outputs": [
    {
     "data": {
      "text/html": [
       "<div>\n",
       "<style scoped>\n",
       "    .dataframe tbody tr th:only-of-type {\n",
       "        vertical-align: middle;\n",
       "    }\n",
       "\n",
       "    .dataframe tbody tr th {\n",
       "        vertical-align: top;\n",
       "    }\n",
       "\n",
       "    .dataframe thead th {\n",
       "        text-align: right;\n",
       "    }\n",
       "</style>\n",
       "<table border=\"1\" class=\"dataframe\">\n",
       "  <thead>\n",
       "    <tr style=\"text-align: right;\">\n",
       "      <th></th>\n",
       "      <th>Age</th>\n",
       "      <th>Ethnicity1</th>\n",
       "      <th>Ethnicity2</th>\n",
       "      <th>Education</th>\n",
       "    </tr>\n",
       "  </thead>\n",
       "  <tbody>\n",
       "    <tr>\n",
       "      <th>2</th>\n",
       "      <td>18 - 24</td>\n",
       "      <td>No</td>\n",
       "      <td>White</td>\n",
       "      <td>Doctorate or professional degree (e.g. MD, DDS...</td>\n",
       "    </tr>\n",
       "    <tr>\n",
       "      <th>3</th>\n",
       "      <td>Under 18</td>\n",
       "      <td>No</td>\n",
       "      <td>White</td>\n",
       "      <td>Doctorate or professional degree (e.g. MD, DDS...</td>\n",
       "    </tr>\n",
       "    <tr>\n",
       "      <th>4</th>\n",
       "      <td>35 - 44</td>\n",
       "      <td>Yes</td>\n",
       "      <td>White</td>\n",
       "      <td>Some college, no degree</td>\n",
       "    </tr>\n",
       "    <tr>\n",
       "      <th>5</th>\n",
       "      <td>18 - 24</td>\n",
       "      <td>Yes</td>\n",
       "      <td>Other</td>\n",
       "      <td>Bachelor's degree (e.g. BA, BS)</td>\n",
       "    </tr>\n",
       "    <tr>\n",
       "      <th>6</th>\n",
       "      <td>18 - 24</td>\n",
       "      <td>Yes</td>\n",
       "      <td>Other</td>\n",
       "      <td>High school degree or equivalent (e.g. GED)</td>\n",
       "    </tr>\n",
       "    <tr>\n",
       "      <th>7</th>\n",
       "      <td>18 - 24</td>\n",
       "      <td>No</td>\n",
       "      <td>White</td>\n",
       "      <td>High school degree or equivalent (e.g. GED)</td>\n",
       "    </tr>\n",
       "    <tr>\n",
       "      <th>8</th>\n",
       "      <td>25 - 34</td>\n",
       "      <td>No</td>\n",
       "      <td>White</td>\n",
       "      <td>High school degree or equivalent (e.g. GED)</td>\n",
       "    </tr>\n",
       "    <tr>\n",
       "      <th>9</th>\n",
       "      <td>25 - 34</td>\n",
       "      <td>No</td>\n",
       "      <td>Black or African American</td>\n",
       "      <td>High school degree or equivalent (e.g. GED)</td>\n",
       "    </tr>\n",
       "  </tbody>\n",
       "</table>\n",
       "</div>"
      ],
      "text/plain": [
       "        Age Ethnicity1                 Ethnicity2  \\\n",
       "2   18 - 24         No                      White   \n",
       "3  Under 18         No                      White   \n",
       "4   35 - 44        Yes                      White   \n",
       "5   18 - 24        Yes                      Other   \n",
       "6   18 - 24        Yes                      Other   \n",
       "7   18 - 24         No                      White   \n",
       "8   25 - 34         No                      White   \n",
       "9   25 - 34         No  Black or African American   \n",
       "\n",
       "                                           Education  \n",
       "2  Doctorate or professional degree (e.g. MD, DDS...  \n",
       "3  Doctorate or professional degree (e.g. MD, DDS...  \n",
       "4                            Some college, no degree  \n",
       "5                    Bachelor's degree (e.g. BA, BS)  \n",
       "6        High school degree or equivalent (e.g. GED)  \n",
       "7        High school degree or equivalent (e.g. GED)  \n",
       "8        High school degree or equivalent (e.g. GED)  \n",
       "9        High school degree or equivalent (e.g. GED)  "
      ]
     },
     "execution_count": 5,
     "metadata": {},
     "output_type": "execute_result"
    }
   ],
   "source": [
    "datafile[2:]"
   ]
  },
  {
   "cell_type": "markdown",
   "id": "18f7c00d-a7f8-47f6-b477-b4b4e6536917",
   "metadata": {},
   "source": [
    "Now we are going to save a new variable, called `datafile_slice` with our slice. We don't really need to save a new variable, as we could have saved over the original datafile variable. But it is usually good practice to keep the original and the new slice, just in case you mess it up."
   ]
  },
  {
   "cell_type": "code",
   "execution_count": 6,
   "id": "330ecc28-15a7-4977-b99e-0d3d50ee3755",
   "metadata": {},
   "outputs": [],
   "source": [
    "datafile_slice = datafile[2:]"
   ]
  },
  {
   "cell_type": "markdown",
   "id": "9cdda7ff-e0fd-4fa8-8890-4bb10a4db44b",
   "metadata": {},
   "source": [
    "Now if we look at `datafile_slice`, we see:"
   ]
  },
  {
   "cell_type": "code",
   "execution_count": 7,
   "id": "5307a364-0653-42ae-8d61-1d06753479c2",
   "metadata": {},
   "outputs": [
    {
     "data": {
      "text/html": [
       "<div>\n",
       "<style scoped>\n",
       "    .dataframe tbody tr th:only-of-type {\n",
       "        vertical-align: middle;\n",
       "    }\n",
       "\n",
       "    .dataframe tbody tr th {\n",
       "        vertical-align: top;\n",
       "    }\n",
       "\n",
       "    .dataframe thead th {\n",
       "        text-align: right;\n",
       "    }\n",
       "</style>\n",
       "<table border=\"1\" class=\"dataframe\">\n",
       "  <thead>\n",
       "    <tr style=\"text-align: right;\">\n",
       "      <th></th>\n",
       "      <th>Age</th>\n",
       "      <th>Ethnicity1</th>\n",
       "      <th>Ethnicity2</th>\n",
       "      <th>Education</th>\n",
       "    </tr>\n",
       "  </thead>\n",
       "  <tbody>\n",
       "    <tr>\n",
       "      <th>2</th>\n",
       "      <td>18 - 24</td>\n",
       "      <td>No</td>\n",
       "      <td>White</td>\n",
       "      <td>Doctorate or professional degree (e.g. MD, DDS...</td>\n",
       "    </tr>\n",
       "    <tr>\n",
       "      <th>3</th>\n",
       "      <td>Under 18</td>\n",
       "      <td>No</td>\n",
       "      <td>White</td>\n",
       "      <td>Doctorate or professional degree (e.g. MD, DDS...</td>\n",
       "    </tr>\n",
       "    <tr>\n",
       "      <th>4</th>\n",
       "      <td>35 - 44</td>\n",
       "      <td>Yes</td>\n",
       "      <td>White</td>\n",
       "      <td>Some college, no degree</td>\n",
       "    </tr>\n",
       "    <tr>\n",
       "      <th>5</th>\n",
       "      <td>18 - 24</td>\n",
       "      <td>Yes</td>\n",
       "      <td>Other</td>\n",
       "      <td>Bachelor's degree (e.g. BA, BS)</td>\n",
       "    </tr>\n",
       "    <tr>\n",
       "      <th>6</th>\n",
       "      <td>18 - 24</td>\n",
       "      <td>Yes</td>\n",
       "      <td>Other</td>\n",
       "      <td>High school degree or equivalent (e.g. GED)</td>\n",
       "    </tr>\n",
       "    <tr>\n",
       "      <th>7</th>\n",
       "      <td>18 - 24</td>\n",
       "      <td>No</td>\n",
       "      <td>White</td>\n",
       "      <td>High school degree or equivalent (e.g. GED)</td>\n",
       "    </tr>\n",
       "    <tr>\n",
       "      <th>8</th>\n",
       "      <td>25 - 34</td>\n",
       "      <td>No</td>\n",
       "      <td>White</td>\n",
       "      <td>High school degree or equivalent (e.g. GED)</td>\n",
       "    </tr>\n",
       "    <tr>\n",
       "      <th>9</th>\n",
       "      <td>25 - 34</td>\n",
       "      <td>No</td>\n",
       "      <td>Black or African American</td>\n",
       "      <td>High school degree or equivalent (e.g. GED)</td>\n",
       "    </tr>\n",
       "  </tbody>\n",
       "</table>\n",
       "</div>"
      ],
      "text/plain": [
       "        Age Ethnicity1                 Ethnicity2  \\\n",
       "2   18 - 24         No                      White   \n",
       "3  Under 18         No                      White   \n",
       "4   35 - 44        Yes                      White   \n",
       "5   18 - 24        Yes                      Other   \n",
       "6   18 - 24        Yes                      Other   \n",
       "7   18 - 24         No                      White   \n",
       "8   25 - 34         No                      White   \n",
       "9   25 - 34         No  Black or African American   \n",
       "\n",
       "                                           Education  \n",
       "2  Doctorate or professional degree (e.g. MD, DDS...  \n",
       "3  Doctorate or professional degree (e.g. MD, DDS...  \n",
       "4                            Some college, no degree  \n",
       "5                    Bachelor's degree (e.g. BA, BS)  \n",
       "6        High school degree or equivalent (e.g. GED)  \n",
       "7        High school degree or equivalent (e.g. GED)  \n",
       "8        High school degree or equivalent (e.g. GED)  \n",
       "9        High school degree or equivalent (e.g. GED)  "
      ]
     },
     "execution_count": 7,
     "metadata": {},
     "output_type": "execute_result"
    }
   ],
   "source": [
    "datafile_slice"
   ]
  },
  {
   "cell_type": "markdown",
   "id": "f749bb1d-85d0-4534-aada-4a3bc6f18904",
   "metadata": {},
   "source": [
    "## How many responses for each item?\n",
    "\n",
    "One of the most common tasks for surveys is to count the number of responses for each. We first start by accessing the column we care about. If you have trouble remembering which direction is a row versus column, remember that buildings have columns that go up and down."
   ]
  },
  {
   "cell_type": "markdown",
   "id": "ddf3d6b8-ba70-4cf9-957f-93e513544903",
   "metadata": {},
   "source": [
    "The cell below displays just the responses for Age. Note that you have to use the same capitalization and spacing, or else it won't find it. \n",
    "\n",
    "When we display a column, it does not give us the same nicely-formatted table as an entire dataframe. The first number in each line is the original row number (remember we removed rows 0 and 1?). The second is the response."
   ]
  },
  {
   "cell_type": "code",
   "execution_count": 8,
   "id": "53bc79ae-5498-4571-bbf7-f88824a77e83",
   "metadata": {},
   "outputs": [
    {
     "data": {
      "text/plain": [
       "2     18 - 24\n",
       "3    Under 18\n",
       "4     35 - 44\n",
       "5     18 - 24\n",
       "6     18 - 24\n",
       "7     18 - 24\n",
       "8     25 - 34\n",
       "9     25 - 34\n",
       "Name: Age, dtype: object"
      ]
     },
     "execution_count": 8,
     "metadata": {},
     "output_type": "execute_result"
    }
   ],
   "source": [
    "datafile_slice[\"Age\"]"
   ]
  },
  {
   "cell_type": "markdown",
   "id": "24475916-4739-4ee5-b4a8-e071059f5047",
   "metadata": {},
   "source": [
    "Now we are going to use a variable called `column_to_count`, where we save the name of the column we care about. This way, it makes it easy to change one variable if we want to analyze a different column:\n",
    "\n",
    "__For lab: replace \"Age\" with the name of the column you want to analyze__"
   ]
  },
  {
   "cell_type": "code",
   "execution_count": 9,
   "id": "46776557-3a99-4af6-989a-27c452ae7669",
   "metadata": {},
   "outputs": [],
   "source": [
    "column_to_count = \"Age\""
   ]
  },
  {
   "cell_type": "code",
   "execution_count": 10,
   "id": "b20b65b7-bff3-4022-a3c2-aa4679f14ad3",
   "metadata": {},
   "outputs": [
    {
     "data": {
      "text/plain": [
       "2     18 - 24\n",
       "3    Under 18\n",
       "4     35 - 44\n",
       "5     18 - 24\n",
       "6     18 - 24\n",
       "7     18 - 24\n",
       "8     25 - 34\n",
       "9     25 - 34\n",
       "Name: Age, dtype: object"
      ]
     },
     "execution_count": 10,
     "metadata": {},
     "output_type": "execute_result"
    }
   ],
   "source": [
    "datafile_slice[column_to_count]"
   ]
  },
  {
   "cell_type": "markdown",
   "id": "dcb04d77-449f-4f18-99e5-3b988eb5ac5b",
   "metadata": {},
   "source": [
    "### Value counts"
   ]
  },
  {
   "cell_type": "markdown",
   "id": "097f8d1b-be2b-43f8-84c4-aba6d8420766",
   "metadata": {},
   "source": [
    "But we want to count up all of those responses. We add `.value_counts()` to the end, like this:"
   ]
  },
  {
   "cell_type": "code",
   "execution_count": 11,
   "id": "a15fd4e7-6231-4c20-8747-f6c435d9be4c",
   "metadata": {},
   "outputs": [
    {
     "data": {
      "text/plain": [
       "18 - 24     4\n",
       "25 - 34     2\n",
       "Under 18    1\n",
       "35 - 44     1\n",
       "Name: Age, dtype: int64"
      ]
     },
     "execution_count": 11,
     "metadata": {},
     "output_type": "execute_result"
    }
   ],
   "source": [
    "datafile_slice[column_to_count].value_counts()"
   ]
  },
  {
   "cell_type": "markdown",
   "id": "ddfcca00-8365-4ed6-8794-34e1a79951f8",
   "metadata": {},
   "source": [
    "Sometimes we want just the total counts, but other times we might want to know the proportion (that is, out of 100%). We can add a __parameter__ called `normalize` to `.value_counts` like this:"
   ]
  },
  {
   "cell_type": "code",
   "execution_count": 12,
   "id": "22ad2d22-e340-4a97-b3d4-a50aa1d04439",
   "metadata": {},
   "outputs": [
    {
     "data": {
      "text/plain": [
       "18 - 24     0.500\n",
       "25 - 34     0.250\n",
       "Under 18    0.125\n",
       "35 - 44     0.125\n",
       "Name: Age, dtype: float64"
      ]
     },
     "execution_count": 12,
     "metadata": {},
     "output_type": "execute_result"
    }
   ],
   "source": [
    "datafile_slice[column_to_count].value_counts(normalize=True)"
   ]
  },
  {
   "cell_type": "markdown",
   "id": "5a1be061-27bb-4e71-aa2d-f25eaa107bd6",
   "metadata": {},
   "source": [
    "This is another thing to get used to in data science land: percentages are displayed as a decimal, so 100% is 1.0, 50% is 0.5, and so on."
   ]
  },
  {
   "cell_type": "markdown",
   "id": "f9505f2b-7163-4ddf-a820-43f65382defe",
   "metadata": {},
   "source": [
    "### Plotting graphs of value counts"
   ]
  },
  {
   "cell_type": "markdown",
   "id": "6a41499d-829c-4970-8040-8788edab3b98",
   "metadata": {},
   "source": [
    "Just like we added `.value_counts()`, we can add another function to plot a graph. By default, it tries to display a line graph. "
   ]
  },
  {
   "cell_type": "code",
   "execution_count": 13,
   "id": "8faf0722-dee2-4760-a3f9-1322172e1e3d",
   "metadata": {},
   "outputs": [
    {
     "data": {
      "text/plain": [
       "<AxesSubplot:>"
      ]
     },
     "execution_count": 13,
     "metadata": {},
     "output_type": "execute_result"
    },
    {
     "data": {
      "image/png": "[encoded data removed]",
      "text/plain": [
       "<Figure size 432x288 with 1 Axes>"
      ]
     },
     "metadata": {
      "needs_background": "light"
     },
     "output_type": "display_data"
    }
   ],
   "source": [
    "datafile_slice[column_to_count].value_counts().plot()"
   ]
  },
  {
   "cell_type": "markdown",
   "id": "303cdd0b-cbad-45bf-98c4-6b466eaaead7",
   "metadata": {},
   "source": [
    "But I think a bar graph is better for this kind of question. We can add another parameter to the `plot` function to specify the `kind` of plot:"
   ]
  },
  {
   "cell_type": "code",
   "execution_count": 14,
   "id": "1d128a5c-ae29-4dd0-9b1d-1efe889410bd",
   "metadata": {},
   "outputs": [
    {
     "data": {
      "text/plain": [
       "<AxesSubplot:>"
      ]
     },
     "execution_count": 14,
     "metadata": {},
     "output_type": "execute_result"
    },
    {
     "data": {
      "image/png": "[encoded data removed]",
      "text/plain": [
       "<Figure size 432x288 with 1 Axes>"
      ]
     },
     "metadata": {
      "needs_background": "light"
     },
     "output_type": "display_data"
    }
   ],
   "source": [
    "datafile_slice[column_to_count].value_counts().plot(kind='bar')"
   ]
  },
  {
   "cell_type": "markdown",
   "id": "6768a338-23af-471b-b17b-7c690993c203",
   "metadata": {},
   "source": [
    "There are lots of different `kind`s of graph styles. I use `barh` or horizontal bar graphs a lot:"
   ]
  },
  {
   "cell_type": "code",
   "execution_count": 15,
   "id": "3d923f50-914a-49a2-a7ed-c9149ea63457",
   "metadata": {},
   "outputs": [
    {
     "data": {
      "text/plain": [
       "<AxesSubplot:>"
      ]
     },
     "execution_count": 15,
     "metadata": {},
     "output_type": "execute_result"
    },
    {
     "data": {
      "image/png": "[encoded data removed]",
      "text/plain": [
       "<Figure size 432x288 with 1 Axes>"
      ]
     },
     "metadata": {
      "needs_background": "light"
     },
     "output_type": "display_data"
    }
   ],
   "source": [
    "datafile_slice[column_to_count].value_counts().plot(kind='barh')"
   ]
  },
  {
   "cell_type": "markdown",
   "id": "4961a44b-3b72-4b35-b1be-eafca1b1ec5c",
   "metadata": {},
   "source": [
    "There are a lot of __parameters__ for `.plot()`. For example: \n",
    "\n",
    "__For lab: make sure to rename the title and labels__"
   ]
  },
  {
   "cell_type": "code",
   "execution_count": 16,
   "id": "b03fb3bd-f063-4eb6-86a4-52032354199f",
   "metadata": {},
   "outputs": [
    {
     "data": {
      "text/plain": [
       "<AxesSubplot:title={'center':'Respondents by age'}, xlabel='Age range', ylabel='Count'>"
      ]
     },
     "execution_count": 16,
     "metadata": {},
     "output_type": "execute_result"
    },
    {
     "data": {
      "image/png": "[encoded data removed]",
      "text/plain": [
       "<Figure size 432x216 with 1 Axes>"
      ]
     },
     "metadata": {
      "needs_background": "light"
     },
     "output_type": "display_data"
    }
   ],
   "source": [
    "datafile_slice[column_to_count].value_counts().plot(kind='bar', \n",
    "                                          title=\"Respondents by age\",\n",
    "                                          ylabel=\"Count\",\n",
    "                                          xlabel=\"Age range\",\n",
    "                                          color=\"red\",\n",
    "                                          figsize=(6,3))"
   ]
  },
  {
   "cell_type": "markdown",
   "id": "5ab23b40-7070-4160-90b1-c4f5acd78731",
   "metadata": {},
   "source": [
    "#### Rearraging rows\n",
    "\n",
    "One problem is that this might not be in the order you want. To work with this, we take advantage of the fact that everything can be stored as a variable, including the output of `value_counts`. So we first save the results of `value_counts` to a new variable:"
   ]
  },
  {
   "cell_type": "code",
   "execution_count": 17,
   "id": "421c227d-3c71-40a8-9625-582113e4dd3d",
   "metadata": {},
   "outputs": [
    {
     "data": {
      "text/plain": [
       "18 - 24     4\n",
       "25 - 34     2\n",
       "Under 18    1\n",
       "35 - 44     1\n",
       "Name: Age, dtype: int64"
      ]
     },
     "execution_count": 17,
     "metadata": {},
     "output_type": "execute_result"
    }
   ],
   "source": [
    "column_counts = datafile_slice[column_to_count].value_counts()\n",
    "column_counts"
   ]
  },
  {
   "cell_type": "markdown",
   "id": "a0e341f1-c154-4492-a260-6320c64350b8",
   "metadata": {},
   "source": [
    "We then manually specify a __list__ in the order we want:\n",
    "\n",
    "__For lab: make sure to set the order you want for your column__"
   ]
  },
  {
   "cell_type": "code",
   "execution_count": 18,
   "id": "24dce371-d803-45bc-a949-284c8f7c508c",
   "metadata": {},
   "outputs": [],
   "source": [
    "sort_order = [\"Under 18\", \"18 - 24\", \"25 - 34\", \"35 - 44\"]"
   ]
  },
  {
   "cell_type": "markdown",
   "id": "1d1b2bd4-b19d-4470-811f-9fbd4b8f4988",
   "metadata": {},
   "source": [
    "And then instead of using `datafile_slice[column_to_count].value_counts()` in the code above, we can use this in the same place:"
   ]
  },
  {
   "cell_type": "code",
   "execution_count": 19,
   "id": "bfef6565-b4b8-430f-8c7a-f3c5abb2754b",
   "metadata": {},
   "outputs": [
    {
     "data": {
      "text/plain": [
       "Under 18    1\n",
       "18 - 24     4\n",
       "25 - 34     2\n",
       "35 - 44     1\n",
       "Name: Age, dtype: int64"
      ]
     },
     "execution_count": 19,
     "metadata": {},
     "output_type": "execute_result"
    }
   ],
   "source": [
    "column_counts[sort_order]"
   ]
  },
  {
   "cell_type": "markdown",
   "id": "98fd5d4e-e7b3-4b2a-90b2-cb965ff1883f",
   "metadata": {},
   "source": [
    "__For lab: make sure to rename the title and labels__"
   ]
  },
  {
   "cell_type": "code",
   "execution_count": 20,
   "id": "7248cf14-3db5-4b7a-8909-c72ba4e8a971",
   "metadata": {},
   "outputs": [
    {
     "data": {
      "text/plain": [
       "<AxesSubplot:title={'center':\"Respondents' by age\"}, xlabel='Age range', ylabel='Count'>"
      ]
     },
     "execution_count": 20,
     "metadata": {},
     "output_type": "execute_result"
    },
    {
     "data": {
      "image/png": "[encoded data removed]",
      "text/plain": [
       "<Figure size 432x216 with 1 Axes>"
      ]
     },
     "metadata": {
      "needs_background": "light"
     },
     "output_type": "display_data"
    }
   ],
   "source": [
    "column_counts[sort_order].plot(kind='bar', \n",
    "                               title=\"Respondents' by age\",\n",
    "                               ylabel=\"Count\",\n",
    "                               xlabel=\"Age range\",\n",
    "                               figsize=(6,3))"
   ]
  },
  {
   "cell_type": "markdown",
   "id": "f90d8467-b067-4459-8414-d8945a9f3f1d",
   "metadata": {},
   "source": [
    "## Remember to go to `Kernel -> Restart and Run all` to make sure it works all the way through."
   ]
  },
  {
   "cell_type": "code",
   "execution_count": null,
   "id": "8077b458-8c02-4e38-863f-b6bc0a465db8",
   "metadata": {},
   "outputs": [],
   "source": []
  }
 ],
 "metadata": {
  "kernelspec": {
   "display_name": "Python 3 (clean)",
   "language": "python",
   "name": "python3_clean"
  },
  "language_info": {
   "codemirror_mode": {
    "name": "ipython",
    "version": 3
   },
   "file_extension": ".py",
   "mimetype": "text/x-python",
   "name": "python",
   "nbconvert_exporter": "python",
   "pygments_lexer": "ipython3",
   "version": "3.9.5"
  }
 },
 "nbformat": 4,
 "nbformat_minor": 5
}
