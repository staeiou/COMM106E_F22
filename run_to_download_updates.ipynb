{
 "cells": [
  {
   "cell_type": "markdown",
   "id": "b60d9327-cb3b-4f5c-a221-7d655a1576bb",
   "metadata": {},
   "source": [
    "# Kernel -> Restart Kernel and run all cells"
   ]
  },
  {
   "cell_type": "code",
   "execution_count": null,
   "id": "da4b26a1",
   "metadata": {},
   "outputs": [],
   "source": [
    "!git -C ~/private/COMM106E_F22 pull https://github.com/staeiou/COMM106E_F22 "
   ]
  }
 ],
 "metadata": {
  "kernelspec": {
   "display_name": "Python 3 (clean)",
   "language": "python",
   "name": "python3_clean"
  },
  "language_info": {
   "codemirror_mode": {
    "name": "ipython",
    "version": 3
   },
   "file_extension": ".py",
   "mimetype": "text/x-python",
   "name": "python",
   "nbconvert_exporter": "python",
   "pygments_lexer": "ipython3",
   "version": "3.9.5"
  }
 },
 "nbformat": 4,
 "nbformat_minor": 5
}
