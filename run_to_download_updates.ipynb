{
 "cells": [
  {
   "cell_type": "markdown",
   "id": "b60d9327-cb3b-4f5c-a221-7d655a1576bb",
   "metadata": {},
   "source": [
    "# Run just this first cell to download the new notebooks"
   ]
  },
  {
   "cell_type": "code",
   "execution_count": null,
   "id": "da4b26a1",
   "metadata": {},
   "outputs": [],
   "source": [
    "!git -C ~/private/COMM106E_F22 pull https://github.com/staeiou/COMM106E_F22 "
   ]
  },
  {
   "cell_type": "markdown",
   "id": "abf15db8-812e-484e-9eef-78ad93f2a5d8",
   "metadata": {},
   "source": [
    "# If you get an error"
   ]
  },
  {
   "cell_type": "markdown",
   "id": "dfc4e18c-6c52-4f72-8dc8-946e3b023171",
   "metadata": {},
   "source": [
    "If you get this error:\n",
    "\n",
    "`error: Your local changes to the following files would be overwritten by merge:`\n",
    "\n",
    "`Please commit your changes or stash them before you merge.`\n",
    "\n",
    "You have made changes to the original notebooks listed in the error message. If you want to keep those changes, rename each notebook (you can just add \"-mycopy\" to the end). Then run the first cell again.\n",
    "\n",
    "If you do not care about the changes you made and want those notebooks to be how they originally were, run these two cells:"
   ]
  },
  {
   "cell_type": "code",
   "execution_count": null,
   "id": "b493dffa-7a93-4bad-b682-5485d1e6fa6f",
   "metadata": {},
   "outputs": [],
   "source": [
    "!git -C ~/private/COMM106E_F22 reset --hard"
   ]
  },
  {
   "cell_type": "code",
   "execution_count": null,
   "id": "696e02c4-218d-474f-bbf2-3ba5685105de",
   "metadata": {},
   "outputs": [],
   "source": [
    "!git -C ~/private/COMM106E_F22 pull https://github.com/staeiou/COMM106E_F22 "
   ]
  },
  {
   "cell_type": "code",
   "execution_count": null,
   "id": "520f4400-6ea3-4897-80e9-9abc33109dd8",
   "metadata": {},
   "outputs": [],
   "source": []
  }
 ],
 "metadata": {
  "kernelspec": {
   "display_name": "Python 3 (clean)",
   "language": "python",
   "name": "python3_clean"
  },
  "language_info": {
   "codemirror_mode": {
    "name": "ipython",
    "version": 3
   },
   "file_extension": ".py",
   "mimetype": "text/x-python",
   "name": "python",
   "nbconvert_exporter": "python",
   "pygments_lexer": "ipython3",
   "version": "3.9.5"
  }
 },
 "nbformat": 4,
 "nbformat_minor": 5
}
